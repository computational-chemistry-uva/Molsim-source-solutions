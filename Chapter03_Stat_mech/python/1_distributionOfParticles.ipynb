{
 "cells": [
  {
   "cell_type": "code",
   "execution_count": 1,
   "metadata": {},
   "outputs": [],
   "source": [
    "import numpy as np\n",
    "import matplotlib.pyplot as plt\n",
    "import scipy"
   ]
  },
  {
   "cell_type": "code",
   "execution_count": 2,
   "metadata": {},
   "outputs": [],
   "source": [
    "numberOfParticles = 500\n",
    "numberOfCompartments = 10\n",
    "numberOfCycles = 1000\n",
    "\n",
    "distribution = np.zeros((numberOfCompartments, numberOfParticles))\n",
    "particlesInCompartment = np.zeros(numberOfCompartments, dtype=np.int32)"
   ]
  },
  {
   "cell_type": "code",
   "execution_count": 3,
   "metadata": {},
   "outputs": [],
   "source": [
    "def analytical(numberOfParticles, numberOfCompartments):\n",
    "    idx = np.arange(numberOfParticles)\n",
    "    \n",
    "    # get binomial coefficients npr(N, j) in array\n",
    "    binomCoeffs = scipy.special.binom(numberOfParticles, idx)\n",
    "    \n",
    "    # precompute p\n",
    "    p = 1 / numberOfCompartments\n",
    "    \n",
    "    # return binomial pmf\n",
    "    return binomCoeffs * p**idx * (1-p)**(numberOfParticles - idx)"
   ]
  },
  {
   "cell_type": "code",
   "execution_count": 4,
   "metadata": {},
   "outputs": [],
   "source": [
    "for cycle in range(numberOfCycles):\n",
    "    # for each particle, determine the compartment index\n",
    "    indices = np.random.randint(0, numberOfCompartments, numberOfParticles)\n",
    "    \n",
    "    # count how many particles are in each compartment (returns (ids, counts))\n",
    "    counts = np.unique(indices, return_counts=True)\n",
    "    \n",
    "    # add those to the distribution\n",
    "    np.add.at(distribution, counts, 1)\n",
    "distribution /= numberOfCycles"
   ]
  },
  {
   "cell_type": "code",
   "execution_count": null,
   "metadata": {},
   "outputs": [],
   "source": [
    "fig, ax = plt.subplots()\n",
    "ax.plot(np.mean(distribution, axis=0))\n",
    "ax.plot(analytical(numberOfParticles, numberOfCompartments))"
   ]
  },
  {
   "cell_type": "code",
   "execution_count": null,
   "metadata": {},
   "outputs": [],
   "source": []
  }
 ],
 "metadata": {
  "kernelspec": {
   "display_name": "Python 3",
   "language": "python",
   "name": "python3"
  },
  "language_info": {
   "codemirror_mode": {
    "name": "ipython",
    "version": 3
   },
   "file_extension": ".py",
   "mimetype": "text/x-python",
   "name": "python",
   "nbconvert_exporter": "python",
   "pygments_lexer": "ipython3",
   "version": "3.11.8"
  }
 },
 "nbformat": 4,
 "nbformat_minor": 2
}
