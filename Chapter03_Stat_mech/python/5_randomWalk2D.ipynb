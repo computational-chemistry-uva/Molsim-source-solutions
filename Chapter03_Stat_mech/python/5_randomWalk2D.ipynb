{
 "cells": [
  {
   "cell_type": "code",
   "execution_count": 1,
   "metadata": {},
   "outputs": [],
   "source": [
    "import numpy as np\n",
    "import matplotlib.pyplot as plt\n",
    "import numba"
   ]
  },
  {
   "cell_type": "code",
   "execution_count": 2,
   "metadata": {},
   "outputs": [],
   "source": [
    "class MSDSampler:\n",
    "    def __init__(self, maxCorrelationTime, maxOrigins, numberOfParticles):\n",
    "        self.maxCorrelationTime = maxCorrelationTime\n",
    "        self.maxOrigins = maxOrigins\n",
    "        self.numberOfParticles = numberOfParticles\n",
    "        \n",
    "        self.msd = np.zeros((maxCorrelationTime, 2))\n",
    "        self.counts = np.zeros(maxCorrelationTime, dtype=np.int32)\n",
    "        self.originPositions = np.zeros((maxOrigins, numberOfParticles, 2))\n",
    "        self.originTimes = np.zeros(maxOrigins, dtype=np.int32)\n",
    " \n",
    "    def sample(self, position, cycle):\n",
    "        self.originTimes[cycle % self.maxOrigins] = cycle\n",
    "        self.originPositions[cycle % self.maxOrigins] = position\n",
    "        \n",
    "        for i in range(min(cycle, self.maxOrigins)):\n",
    "            time_difference = cycle - self.originTimes[i]\n",
    "            if time_difference < self.maxCorrelationTime:\n",
    "                self.counts[time_difference] += 1\n",
    "                self.msd[time_difference] += np.mean((position - self.originPositions[i])**2, axis=0)\n",
    "                \n",
    "    def getMSD(self):\n",
    "        return self.msd / self.counts[:, None]\n"
   ]
  },
  {
   "cell_type": "code",
   "execution_count": 6,
   "metadata": {},
   "outputs": [],
   "source": [
    "latticeVectors = np.array([[1,0], [0,1], [-1,0], [0,-1]], dtype=np.int32)\n",
    "\n",
    "@numba.njit\n",
    "def randomWalk2D(numberOfCycles: int, numberOfParticles: int, latticeSize: int):\n",
    "    lattice = np.zeros((latticeSize, latticeSize), dtype=np.int32)\n",
    "    \n",
    "    # select random lattice sites to initialize particles\n",
    "    indices = np.random.choice(latticeSize**2, size=numberOfParticles, replace=False)\n",
    "    xPositions = indices % latticeSize\n",
    "    yPositions = indices // latticeSize\n",
    "    \n",
    "    positions = np.column_stack((xPositions, yPositions))\n",
    "    unwrappedPositions = positions.copy()\n",
    "    \n",
    "    msdSampler = MSDSampler(500, 50, numberOfParticles)\n",
    "    \n",
    "    for cycle in range(numberOfCycles):\n",
    "        # Select particle and displacement\n",
    "        particleIndex = np.random.choice(numberOfParticles)\n",
    "        dx = latticeVectors[np.random.choice(4)]\n",
    "        xold, yold = positions[particleIndex]\n",
    "        \n",
    "        # Get new position and wrap in box\n",
    "        newPosition = positions[particleIndex] + dx\n",
    "        newPosition %= latticeSize\n",
    "        xnew, ynew = newPosition\n",
    "        \n",
    "        # Check if lattice site is occupied\n",
    "        if lattice[xold, yold] != 1:\n",
    "            \n",
    "            lattice[xold, yold] = 0\n",
    "            lattice[xnew, ynew] = 1\n",
    "            positions[particleIndex] = newPosition\n",
    "            unwrappedPositions[particleIndex] += dx\n",
    "    \n",
    "        msdSampler.sample(unwrappedPositions, cycle)\n",
    "    return msdSampler.getMSD()"
   ]
  },
  {
   "cell_type": "code",
   "execution_count": 7,
   "metadata": {},
   "outputs": [],
   "source": [
    "numberOfParticles = 100\n",
    "latticeSize = 20\n",
    "numberOfCycles = 100000"
   ]
  },
  {
   "cell_type": "code",
   "execution_count": 8,
   "metadata": {},
   "outputs": [
    {
     "ename": "TypingError",
     "evalue": "Failed in nopython mode pipeline (step: nopython frontend)\n\u001b[1mUntyped global name 'MSDSampler':\u001b[0m \u001b[1m\u001b[1mCannot determine Numba type of <class 'type'>\u001b[0m\n\u001b[1m\nFile \"../../../../../../var/folders/wl/5zqkqrjx4mnb22f8316bnkf00000gn/T/ipykernel_21000/1702450126.py\", line 15:\u001b[0m\n\u001b[1m<source missing, REPL/exec in use?>\u001b[0m\n\u001b[0m",
     "output_type": "error",
     "traceback": [
      "\u001b[0;31m---------------------------------------------------------------------------\u001b[0m",
      "\u001b[0;31mTypingError\u001b[0m                               Traceback (most recent call last)",
      "Cell \u001b[0;32mIn[8], line 1\u001b[0m\n\u001b[0;32m----> 1\u001b[0m msd \u001b[38;5;241m=\u001b[39m \u001b[43mrandomWalk2D\u001b[49m\u001b[43m(\u001b[49m\u001b[43mnumberOfCycles\u001b[49m\u001b[43m,\u001b[49m\u001b[43m \u001b[49m\u001b[43mnumberOfParticles\u001b[49m\u001b[43m,\u001b[49m\u001b[43m \u001b[49m\u001b[43mlatticeSize\u001b[49m\u001b[43m)\u001b[49m\n",
      "File \u001b[0;32m~/micromamba/envs/compchem/lib/python3.11/site-packages/numba/core/dispatcher.py:423\u001b[0m, in \u001b[0;36m_DispatcherBase._compile_for_args\u001b[0;34m(self, *args, **kws)\u001b[0m\n\u001b[1;32m    419\u001b[0m         msg \u001b[38;5;241m=\u001b[39m (\u001b[38;5;124mf\u001b[39m\u001b[38;5;124m\"\u001b[39m\u001b[38;5;132;01m{\u001b[39;00m\u001b[38;5;28mstr\u001b[39m(e)\u001b[38;5;241m.\u001b[39mrstrip()\u001b[38;5;132;01m}\u001b[39;00m\u001b[38;5;124m \u001b[39m\u001b[38;5;130;01m\\n\u001b[39;00m\u001b[38;5;130;01m\\n\u001b[39;00m\u001b[38;5;124mThis error may have been caused \u001b[39m\u001b[38;5;124m\"\u001b[39m\n\u001b[1;32m    420\u001b[0m                \u001b[38;5;124mf\u001b[39m\u001b[38;5;124m\"\u001b[39m\u001b[38;5;124mby the following argument(s):\u001b[39m\u001b[38;5;130;01m\\n\u001b[39;00m\u001b[38;5;132;01m{\u001b[39;00margs_str\u001b[38;5;132;01m}\u001b[39;00m\u001b[38;5;130;01m\\n\u001b[39;00m\u001b[38;5;124m\"\u001b[39m)\n\u001b[1;32m    421\u001b[0m         e\u001b[38;5;241m.\u001b[39mpatch_message(msg)\n\u001b[0;32m--> 423\u001b[0m     \u001b[43merror_rewrite\u001b[49m\u001b[43m(\u001b[49m\u001b[43me\u001b[49m\u001b[43m,\u001b[49m\u001b[43m \u001b[49m\u001b[38;5;124;43m'\u001b[39;49m\u001b[38;5;124;43mtyping\u001b[39;49m\u001b[38;5;124;43m'\u001b[39;49m\u001b[43m)\u001b[49m\n\u001b[1;32m    424\u001b[0m \u001b[38;5;28;01mexcept\u001b[39;00m errors\u001b[38;5;241m.\u001b[39mUnsupportedError \u001b[38;5;28;01mas\u001b[39;00m e:\n\u001b[1;32m    425\u001b[0m     \u001b[38;5;66;03m# Something unsupported is present in the user code, add help info\u001b[39;00m\n\u001b[1;32m    426\u001b[0m     error_rewrite(e, \u001b[38;5;124m'\u001b[39m\u001b[38;5;124munsupported_error\u001b[39m\u001b[38;5;124m'\u001b[39m)\n",
      "File \u001b[0;32m~/micromamba/envs/compchem/lib/python3.11/site-packages/numba/core/dispatcher.py:364\u001b[0m, in \u001b[0;36m_DispatcherBase._compile_for_args.<locals>.error_rewrite\u001b[0;34m(e, issue_type)\u001b[0m\n\u001b[1;32m    362\u001b[0m     \u001b[38;5;28;01mraise\u001b[39;00m e\n\u001b[1;32m    363\u001b[0m \u001b[38;5;28;01melse\u001b[39;00m:\n\u001b[0;32m--> 364\u001b[0m     \u001b[38;5;28;01mraise\u001b[39;00m e\u001b[38;5;241m.\u001b[39mwith_traceback(\u001b[38;5;28;01mNone\u001b[39;00m)\n",
      "\u001b[0;31mTypingError\u001b[0m: Failed in nopython mode pipeline (step: nopython frontend)\n\u001b[1mUntyped global name 'MSDSampler':\u001b[0m \u001b[1m\u001b[1mCannot determine Numba type of <class 'type'>\u001b[0m\n\u001b[1m\nFile \"../../../../../../var/folders/wl/5zqkqrjx4mnb22f8316bnkf00000gn/T/ipykernel_21000/1702450126.py\", line 15:\u001b[0m\n\u001b[1m<source missing, REPL/exec in use?>\u001b[0m\n\u001b[0m"
     ]
    }
   ],
   "source": [
    "msd = randomWalk2D(numberOfCycles, numberOfParticles, latticeSize)"
   ]
  },
  {
   "cell_type": "code",
   "execution_count": null,
   "metadata": {},
   "outputs": [],
   "source": [
    "fig, ax = plt.subplots()\n",
    "ax.plot(msd[:, 0])\n",
    "ax.plot(msd[:, 1])"
   ]
  },
  {
   "cell_type": "code",
   "execution_count": null,
   "metadata": {},
   "outputs": [],
   "source": []
  }
 ],
 "metadata": {
  "kernelspec": {
   "display_name": "Python 3",
   "language": "python",
   "name": "python3"
  },
  "language_info": {
   "codemirror_mode": {
    "name": "ipython",
    "version": 3
   },
   "file_extension": ".py",
   "mimetype": "text/x-python",
   "name": "python",
   "nbconvert_exporter": "python",
   "pygments_lexer": "ipython3",
   "version": "3.11.8"
  }
 },
 "nbformat": 4,
 "nbformat_minor": 2
}
