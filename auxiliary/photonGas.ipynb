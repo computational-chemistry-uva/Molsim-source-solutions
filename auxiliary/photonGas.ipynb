{
 "cells": [
  {
   "cell_type": "code",
   "execution_count": 1,
   "metadata": {},
   "outputs": [],
   "source": [
    "import numpy as np\n",
    "import matplotlib.pyplot as plt"
   ]
  },
  {
   "cell_type": "code",
   "execution_count": 146,
   "metadata": {},
   "outputs": [],
   "source": [
    "numberOfProdCycles = 1000000\n",
    "numberOfInitCycles = 10000000\n",
    "beta = 1.0\n",
    "\n",
    "theoretical = 1.0 / (np.exp(beta) - 1)"
   ]
  },
  {
   "cell_type": "code",
   "execution_count": 147,
   "metadata": {},
   "outputs": [],
   "source": [
    "currentState = 1\n",
    "proposedState = 1\n",
    "\n",
    "for cycle in range(numberOfInitCycles):\n",
    "    proposedState = currentState + (-1 if np.random.rand() < 0.5 else 1)\n",
    "    proposedState = max(0, proposedState)\n",
    "    \n",
    "    if np.random.rand() < np.exp(-beta * (proposedState - currentState)):\n",
    "        currentState = proposedState\n",
    "\n",
    "sum = 0.0\n",
    "count = 0\n",
    "for cycle in range(numberOfProdCycles):\n",
    "    proposedState = currentState + (-1 if np.random.rand() < 0.5 else 1)\n",
    "    proposedState = max(0, proposedState)\n",
    "    \n",
    "    if np.random.rand() < np.exp(-beta * (proposedState - currentState)):\n",
    "        currentState = proposedState\n",
    "        \n",
    "    sum += currentState\n",
    "    count += 1\n",
    "ave = sum / count"
   ]
  },
  {
   "cell_type": "code",
   "execution_count": null,
   "metadata": {},
   "outputs": [],
   "source": [
    "print(f\"Theoretical energy: {theoretical}\")\n",
    "print(f\"Average energy: {ave}\")\n",
    "print(f\"Relative error: {abs((ave-theoretical)/theoretical)}\")"
   ]
  },
  {
   "cell_type": "code",
   "execution_count": null,
   "metadata": {},
   "outputs": [],
   "source": []
  },
  {
   "cell_type": "code",
   "execution_count": null,
   "metadata": {},
   "outputs": [],
   "source": []
  }
 ],
 "metadata": {
  "kernelspec": {
   "display_name": "Python 3",
   "language": "python",
   "name": "python3"
  },
  "language_info": {
   "codemirror_mode": {
    "name": "ipython",
    "version": 3
   },
   "file_extension": ".py",
   "mimetype": "text/x-python",
   "name": "python",
   "nbconvert_exporter": "python",
   "pygments_lexer": "ipython3",
   "version": "3.11.8"
  }
 },
 "nbformat": 4,
 "nbformat_minor": 2
}
