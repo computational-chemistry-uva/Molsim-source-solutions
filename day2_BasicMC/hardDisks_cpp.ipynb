{
 "cells": [
  {
   "cell_type": "code",
   "execution_count": null,
   "metadata": {},
   "outputs": [],
   "source": [
    "import matplotlib.pyplot as plt\n",
    "import numpy as np\n",
    "from molsim import HardDisks"
   ]
  },
  {
   "cell_type": "code",
   "execution_count": null,
   "metadata": {},
   "outputs": [],
   "source": [
    "hd = HardDisks(\n",
    "    numberOfInitCycles=int(2e6),\n",
    "    numberOfProdCycles=int(2e6),\n",
    "    numberOfParticles=64,\n",
    "    maxDisplacement=1.0,\n",
    "    sampleFrequency=1000,\n",
    "    boxSize=24.0,\n",
    "    rdfBins=100,\n",
    "    runStatic=True,\n",
    ")"
   ]
  },
  {
   "cell_type": "code",
   "execution_count": null,
   "metadata": {},
   "outputs": [],
   "source": [
    "# hd.run()"
   ]
  },
  {
   "cell_type": "code",
   "execution_count": null,
   "metadata": {},
   "outputs": [],
   "source": [
    "hd = HardDisks(\n",
    "    numberOfInitCycles=int(1e5),\n",
    "    numberOfProdCycles=int(1e5),\n",
    "    numberOfParticles=20,\n",
    "    maxDisplacement=1.0,\n",
    "    sampleFrequency=1000,\n",
    "    boxSize=12.0,\n",
    "    rdfBins=100,\n",
    "    runStatic=False,\n",
    ")"
   ]
  },
  {
   "cell_type": "code",
   "execution_count": null,
   "metadata": {},
   "outputs": [],
   "source": [
    "# hd.run()"
   ]
  },
  {
   "cell_type": "code",
   "execution_count": null,
   "metadata": {},
   "outputs": [],
   "source": [
    "fig, ax = plt.subplots()\n",
    "for i in np.linspace(2, 32, 6):\n",
    "    hd = HardDisks(\n",
    "        numberOfInitCycles=int(5e6),\n",
    "        numberOfProdCycles=int(5e6),\n",
    "        numberOfParticles=int(i),\n",
    "        maxDisplacement=1.0,\n",
    "        sampleFrequency=1000,\n",
    "        boxSize=12.0,\n",
    "        rdfBins=100,\n",
    "        runStatic=True,\n",
    "    )\n",
    "    hd.run()\n",
    "    ax.scatter(i, hd.acceptanceRatio, c=\"black\")\n",
    "ax.set_yscale(\"log\")\n",
    "ax.set_xlabel(\"Number of particles\")\n",
    "ax.set_ylabel(\"Acceptance ratio\")"
   ]
  },
  {
   "cell_type": "code",
   "execution_count": null,
   "metadata": {},
   "outputs": [],
   "source": []
  }
 ],
 "metadata": {
  "kernelspec": {
   "display_name": "molsim",
   "language": "python",
   "name": "python3"
  },
  "language_info": {
   "codemirror_mode": {
    "name": "ipython",
    "version": 3
   },
   "file_extension": ".py",
   "mimetype": "text/x-python",
   "name": "python",
   "nbconvert_exporter": "python",
   "pygments_lexer": "ipython3",
   "version": "3.12.7"
  }
 },
 "nbformat": 4,
 "nbformat_minor": 2
}
