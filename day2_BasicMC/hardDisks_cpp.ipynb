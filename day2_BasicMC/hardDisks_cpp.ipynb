{
 "cells": [
  {
   "cell_type": "code",
   "execution_count": null,
   "metadata": {},
   "outputs": [
    {
     "ename": "ImportError",
     "evalue": "cannot import name 'HardDiskMethod' from 'molsim' (/Users/youriran/micromamba/envs/compchem/lib/python3.11/site-packages/molsim.cpython-311-darwin.so)",
     "output_type": "error",
     "traceback": [
      "\u001b[0;31m---------------------------------------------------------------------------\u001b[0m",
      "\u001b[0;31mImportError\u001b[0m                               Traceback (most recent call last)",
      "Cell \u001b[0;32mIn[7], line 3\u001b[0m\n\u001b[1;32m      1\u001b[0m \u001b[38;5;28;01mimport\u001b[39;00m \u001b[38;5;21;01mmatplotlib\u001b[39;00m\u001b[38;5;21;01m.\u001b[39;00m\u001b[38;5;21;01mpyplot\u001b[39;00m \u001b[38;5;28;01mas\u001b[39;00m \u001b[38;5;21;01mplt\u001b[39;00m\n\u001b[1;32m      2\u001b[0m \u001b[38;5;28;01mimport\u001b[39;00m \u001b[38;5;21;01mnumpy\u001b[39;00m \u001b[38;5;28;01mas\u001b[39;00m \u001b[38;5;21;01mnp\u001b[39;00m\n\u001b[0;32m----> 3\u001b[0m \u001b[38;5;28;01mfrom\u001b[39;00m \u001b[38;5;21;01mmolsim\u001b[39;00m \u001b[38;5;28;01mimport\u001b[39;00m HardDisks, HardDiskMethod\n",
      "\u001b[0;31mImportError\u001b[0m: cannot import name 'HardDiskMethod' from 'molsim' (/Users/youriran/micromamba/envs/compchem/lib/python3.11/site-packages/molsim.cpython-311-darwin.so)"
     ]
    }
   ],
   "source": [
    "import matplotlib.pyplot as plt\n",
    "import numpy as np\n",
    "from molsim import HardDisks"
   ]
  },
  {
   "cell_type": "code",
   "execution_count": null,
   "metadata": {},
   "outputs": [
    {
     "ename": "NameError",
     "evalue": "name 'molsim' is not defined",
     "output_type": "error",
     "traceback": [
      "\u001b[0;31m---------------------------------------------------------------------------\u001b[0m",
      "\u001b[0;31mNameError\u001b[0m                                 Traceback (most recent call last)",
      "Cell \u001b[0;32mIn[2], line 9\u001b[0m\n\u001b[1;32m      1\u001b[0m hd \u001b[38;5;241m=\u001b[39m HardDisks(\n\u001b[1;32m      2\u001b[0m     numberOfInitCycles\u001b[38;5;241m=\u001b[39m\u001b[38;5;28mint\u001b[39m(\u001b[38;5;241m2e6\u001b[39m),\n\u001b[1;32m      3\u001b[0m     numberOfProdCycles\u001b[38;5;241m=\u001b[39m\u001b[38;5;28mint\u001b[39m(\u001b[38;5;241m2e6\u001b[39m),\n\u001b[1;32m      4\u001b[0m     numberOfParticles\u001b[38;5;241m=\u001b[39m\u001b[38;5;241m64\u001b[39m,\n\u001b[1;32m      5\u001b[0m     maxDisplacement\u001b[38;5;241m=\u001b[39m\u001b[38;5;241m1.0\u001b[39m,\n\u001b[1;32m      6\u001b[0m     sampleFrequency\u001b[38;5;241m=\u001b[39m\u001b[38;5;241m1000\u001b[39m,\n\u001b[1;32m      7\u001b[0m     boxSize\u001b[38;5;241m=\u001b[39m\u001b[38;5;241m24.0\u001b[39m,\n\u001b[1;32m      8\u001b[0m     rdfBins\u001b[38;5;241m=\u001b[39m\u001b[38;5;241m100\u001b[39m,\n\u001b[0;32m----> 9\u001b[0m     method\u001b[38;5;241m=\u001b[39mmolsim\u001b[38;5;241m.\u001b[39mMethod\u001b[38;5;241m.\u001b[39mDynamic\n\u001b[1;32m     10\u001b[0m )\n",
      "\u001b[0;31mNameError\u001b[0m: name 'molsim' is not defined"
     ]
    }
   ],
   "source": [
    "hd = HardDisks(\n",
    "    numberOfInitCycles=int(2e6),\n",
    "    numberOfProdCycles=int(2e6),\n",
    "    numberOfParticles=64,\n",
    "    maxDisplacement=1.0,\n",
    "    sampleFrequency=1000,\n",
    "    boxSize=24.0,\n",
    "    rdfBins=100,\n",
    "    method=HardDiskMethod.Dynamic\n",
    ")"
   ]
  },
  {
   "cell_type": "code",
   "execution_count": null,
   "metadata": {},
   "outputs": [],
   "source": [
    "#hd.run()"
   ]
  },
  {
   "cell_type": "code",
   "execution_count": null,
   "metadata": {},
   "outputs": [],
   "source": [
    "hd = HardDisks.HardDisks(\n",
    "    numberOfInitCycles=int(1e5),\n",
    "    numberOfProdCycles=int(1e5),\n",
    "    numberOfParticles=20,\n",
    "    maxDisplacement=1.0,\n",
    "    sampleFrequency=1000,\n",
    "    boxSize=12.0,\n",
    "    rdfBins=100,\n",
    "    method=HardDisks.Method.Static\n",
    ")"
   ]
  },
  {
   "cell_type": "code",
   "execution_count": null,
   "metadata": {},
   "outputs": [],
   "source": [
    "#hd.run()"
   ]
  },
  {
   "cell_type": "code",
   "execution_count": null,
   "metadata": {},
   "outputs": [],
   "source": [
    "fig, ax = plt.subplots()\n",
    "for i in np.linspace(2, 32, 6):\n",
    "    hd = HardDisks.HardDisks(\n",
    "        numberOfInitCycles=int(5e6),\n",
    "        numberOfProdCycles=int(5e6),\n",
    "        numberOfParticles=int(i),\n",
    "        maxDisplacement=1.0,\n",
    "        sampleFrequency=1000,\n",
    "        boxSize=12.0,\n",
    "        rdfBins=100,\n",
    "        method=HardDisks.Method.Static\n",
    "    )\n",
    "    hd.run()\n",
    "    ax.scatter(i, 1 - hd.acceptanceRatio, c='black')\n",
    "ax.set_yscale(\"log\")"
   ]
  },
  {
   "cell_type": "code",
   "execution_count": null,
   "metadata": {},
   "outputs": [],
   "source": []
  }
 ],
 "metadata": {
  "kernelspec": {
   "display_name": "Python 3",
   "language": "python",
   "name": "python3"
  },
  "language_info": {
   "codemirror_mode": {
    "name": "ipython",
    "version": 3
   },
   "file_extension": ".py",
   "mimetype": "text/x-python",
   "name": "python",
   "nbconvert_exporter": "python",
   "pygments_lexer": "ipython3",
   "version": "3.11.10"
  }
 },
 "nbformat": 4,
 "nbformat_minor": 2
}
