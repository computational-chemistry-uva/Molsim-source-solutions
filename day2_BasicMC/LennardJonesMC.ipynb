{
 "cells": [
  {
   "cell_type": "code",
   "execution_count": null,
   "metadata": {},
   "outputs": [],
   "source": [
    "from molsim import MonteCarlo\n",
    "import numpy as np\n",
    "import matplotlib.pyplot as plt"
   ]
  },
  {
   "cell_type": "code",
   "execution_count": null,
   "metadata": {},
   "outputs": [],
   "source": [
    "\n",
    "mc = MonteCarlo(\n",
    "    numberOfParticles=80,\n",
    "    temperature=1.0,\n",
    "    boxSize=20.0,\n",
    "    maxDisplacement=0.5,\n",
    "    numberOfInitCycles=200000,\n",
    "    numberOfProdCycles=500000,\n",
    "    sampleFrequency=100,\n",
    "    sigma=1.0,\n",
    "    epsilon=1.0,\n",
    "    logLevel=0,\n",
    "    seed=12,\n",
    "    pressure=0.1,\n",
    "    volumeProbability=0.001\n",
    ")\n",
    "\n",
    "mc.run()"
   ]
  },
  {
   "cell_type": "code",
   "execution_count": null,
   "metadata": {},
   "outputs": [],
   "source": [
    "fig, ax = plt.subplots()\n",
    "_ = ax.hist(mc.driftEnergies, bins=50, edgecolor='black', alpha=0.7, density=True)"
   ]
  },
  {
   "cell_type": "code",
   "execution_count": null,
   "metadata": {},
   "outputs": [],
   "source": [
    "fig, ax = plt.subplots()\n",
    "_ = ax.hist(mc.volumes, bins=50, edgecolor='black', alpha=0.7, density=True)\n"
   ]
  },
  {
   "cell_type": "code",
   "execution_count": null,
   "metadata": {},
   "outputs": [],
   "source": [
    "fig, ax = plt.subplots()\n",
    "_ = ax.hist(mc.pressures, bins=50, edgecolor='black', alpha=0.7, density=True)"
   ]
  },
  {
   "cell_type": "code",
   "execution_count": null,
   "metadata": {},
   "outputs": [],
   "source": []
  },
  {
   "cell_type": "code",
   "execution_count": null,
   "metadata": {},
   "outputs": [],
   "source": []
  }
 ],
 "metadata": {
  "kernelspec": {
   "display_name": "Python 3",
   "language": "python",
   "name": "python3"
  },
  "language_info": {
   "codemirror_mode": {
    "name": "ipython",
    "version": 3
   },
   "file_extension": ".py",
   "mimetype": "text/x-python",
   "name": "python",
   "nbconvert_exporter": "python",
   "pygments_lexer": "ipython3",
   "version": "3.12.7"
  }
 },
 "nbformat": 4,
 "nbformat_minor": 2
}
