{
 "cells": [
  {
   "cell_type": "code",
   "execution_count": null,
   "metadata": {},
   "outputs": [],
   "source": [
    "# from molsim import MonteCarlo\n",
    "import numpy as np\n",
    "import matplotlib as plt\n",
    "import nglview\n",
    "\n",
    "# run the lennardJonesMC.py file\n",
    "\n",
    "# mc = MonteCarlo(\n",
    "#     numberOfParticles=500,\n",
    "#     temperature=1.0,\n",
    "#     boxSize=8.0,\n",
    "#     maxDisplacement=0.5,\n",
    "#     numberOfInitCycles=500000,\n",
    "#     numberOfProdCycles=500000,\n",
    "#     sampleFrequency=1000,\n",
    "#     sigma=1.0,\n",
    "#     epsilon=1.0,\n",
    "#     logLevel=0,\n",
    "#     seed=12,\n",
    "#     pressure=1.0,\n",
    "#     volumeProbability=0.001,\n",
    "# )\n",
    "\n",
    "# mc.run()"
   ]
  },
  {
   "cell_type": "code",
   "execution_count": null,
   "metadata": {},
   "outputs": [],
   "source": [
    "import mdtraj as md"
   ]
  },
  {
   "cell_type": "code",
   "execution_count": null,
   "metadata": {},
   "outputs": [],
   "source": [
    "traj = md.load(\"movie.pdb\")"
   ]
  },
  {
   "cell_type": "code",
   "execution_count": null,
   "metadata": {},
   "outputs": [],
   "source": []
  }
 ],
 "metadata": {
  "kernelspec": {
   "display_name": "py39_AIMMD",
   "language": "python",
   "name": "python3"
  },
  "language_info": {
   "codemirror_mode": {
    "name": "ipython",
    "version": 3
   },
   "file_extension": ".py",
   "mimetype": "text/x-python",
   "name": "python",
   "nbconvert_exporter": "python",
   "pygments_lexer": "ipython3",
   "version": "3.9.19"
  }
 },
 "nbformat": 4,
 "nbformat_minor": 2
}
