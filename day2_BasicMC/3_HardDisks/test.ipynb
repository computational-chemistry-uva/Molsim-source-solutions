{
 "cells": [
  {
   "cell_type": "code",
   "execution_count": 1,
   "metadata": {},
   "outputs": [],
   "source": [
    "import matplotlib.pyplot as plt\n",
    "import numpy as np\n",
    "import HardDisks"
   ]
  },
  {
   "cell_type": "code",
   "execution_count": 2,
   "metadata": {},
   "outputs": [],
   "source": [
    "hd = HardDisks.HardDisks(\n",
    "    numberOfInitCycles=int(2e6),\n",
    "    numberOfProdCycles=int(2e6),\n",
    "    numberOfParticles=64,\n",
    "    maxDisplacement=1.0,\n",
    "    sampleFrequency=1000,\n",
    "    boxSize=24.0,\n",
    "    rdfBins=100,\n",
    "    method=HardDisks.Method.Dynamic\n",
    ")"
   ]
  },
  {
   "cell_type": "code",
   "execution_count": 3,
   "metadata": {},
   "outputs": [],
   "source": [
    "#hd.run()"
   ]
  },
  {
   "cell_type": "code",
   "execution_count": 4,
   "metadata": {},
   "outputs": [],
   "source": [
    "hd = HardDisks.HardDisks(\n",
    "    numberOfInitCycles=int(1e5),\n",
    "    numberOfProdCycles=int(1e5),\n",
    "    numberOfParticles=20,\n",
    "    maxDisplacement=1.0,\n",
    "    sampleFrequency=1000,\n",
    "    boxSize=12.0,\n",
    "    rdfBins=100,\n",
    "    method=HardDisks.Method.Static\n",
    ")"
   ]
  },
  {
   "cell_type": "code",
   "execution_count": 5,
   "metadata": {},
   "outputs": [],
   "source": [
    "#hd.run()"
   ]
  },
  {
   "cell_type": "code",
   "execution_count": null,
   "metadata": {},
   "outputs": [],
   "source": [
    "fig, ax = plt.subplots()\n",
    "for i in np.linspace(2, 32, 6):\n",
    "    hd = HardDisks.HardDisks(\n",
    "        numberOfInitCycles=int(5e6),\n",
    "        numberOfProdCycles=int(5e6),\n",
    "        numberOfParticles=int(i),\n",
    "        maxDisplacement=1.0,\n",
    "        sampleFrequency=1000,\n",
    "        boxSize=12.0,\n",
    "        rdfBins=100,\n",
    "        method=HardDisks.Method.Static\n",
    "    )\n",
    "    hd.run()\n",
    "    ax.scatter(i, 1 - hd.acceptanceRatio, c='black')\n",
    "ax.set_yscale(\"log\")"
   ]
  },
  {
   "cell_type": "code",
   "execution_count": null,
   "metadata": {},
   "outputs": [],
   "source": []
  }
 ],
 "metadata": {
  "kernelspec": {
   "display_name": "Python 3",
   "language": "python",
   "name": "python3"
  },
  "language_info": {
   "codemirror_mode": {
    "name": "ipython",
    "version": 3
   },
   "file_extension": ".py",
   "mimetype": "text/x-python",
   "name": "python",
   "nbconvert_exporter": "python",
   "pygments_lexer": "ipython3",
   "version": "3.11.10"
  }
 },
 "nbformat": 4,
 "nbformat_minor": 2
}
