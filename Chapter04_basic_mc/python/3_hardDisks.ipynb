{
 "cells": [
  {
   "cell_type": "code",
   "execution_count": 1,
   "metadata": {},
   "outputs": [],
   "source": [
    "import numpy as np\n",
    "import matplotlib.pyplot as plt\n",
    "import numba"
   ]
  },
  {
   "cell_type": "code",
   "execution_count": 2,
   "metadata": {},
   "outputs": [],
   "source": [
    "@numba.njit\n",
    "def dynamicHardDisks(\n",
    "        numberOfInitCycles: int, \n",
    "        numberOfProdCycles: int, \n",
    "        numberOfParticles: int, \n",
    "        maxDisplacement: float, \n",
    "        sampleFrequency: int,\n",
    "        boxSize: float, \n",
    "    ):\n",
    "    \n",
    "    \n",
    "    latticeSites = int(np.ceil(np.sqrt(numberOfParticles)))\n",
    "    positions = np.zeros((latticeSites**2, 2))\n",
    "    \n",
    "    count = 0\n",
    "    for x in np.linspace(0, (1-1/latticeSites) * boxSize, latticeSites):\n",
    "        for y in np.linspace(0, (1-1/latticeSites) * boxSize, latticeSites):\n",
    "            positions[count] = np.array([x,y])\n",
    "            count += 1\n",
    "    positions = positions[np.random.choice(numberOfParticles, numberOfParticles, replace=False)[:numberOfParticles]]\n",
    "    \n",
    "    \n",
    "    samplePositions = np.zeros((numberOfProdCycles // sampleFrequency, numberOfParticles, 2))\n",
    "    samplePositions[0] = positions\n",
    "    sampleCounter = 1\n",
    "    \n",
    "    numberOfAttemptedMoves = 0\n",
    "    numberOfAcceptedMoves = 0\n",
    "    \n",
    "    for cycle in range(numberOfInitCycles + numberOfProdCycles):\n",
    "        numberOfAttemptedMoves += 1\n",
    "        displacement = (np.random.rand(2) - 0.5) * maxDisplacement\n",
    "        particleIdx = np.random.choice(numberOfParticles)\n",
    "        newPosition = positions[particleIdx] + displacement\n",
    "        \n",
    "        overlap = False\n",
    "        for k in range(numberOfParticles):\n",
    "            if k == particleIdx:\n",
    "                continue\n",
    "            dr = newPosition - positions[k]\n",
    "            dr = (dr + 0.5 * boxSize) % boxSize - 0.5 * boxSize\n",
    "            r2 = np.linalg.norm(dr)\n",
    "            \n",
    "            if r2 < 1.0:\n",
    "                overlap = True\n",
    "        \n",
    "        if not overlap:\n",
    "            positions[particleIdx] = newPosition\n",
    "            numberOfAcceptedMoves += 1\n",
    "                \n",
    "        if cycle >= numberOfInitCycles and cycle % sampleFrequency == 0:\n",
    "            samplePositions[sampleCounter] = positions\n",
    "            sampleCounter += 1\n",
    "    print(numberOfAcceptedMoves/numberOfAttemptedMoves)\n",
    "    return samplePositions % boxSize"
   ]
  },
  {
   "cell_type": "code",
   "execution_count": 3,
   "metadata": {},
   "outputs": [
    {
     "name": "stdout",
     "output_type": "stream",
     "text": [
      "0.8448833333333333\n"
     ]
    },
    {
     "ename": "",
     "evalue": "",
     "output_type": "error",
     "traceback": [
      "\u001b[1;31mThe Kernel crashed while executing code in the current cell or a previous cell. \n",
      "\u001b[1;31mPlease review the code in the cell(s) to identify a possible cause of the failure. \n",
      "\u001b[1;31mClick <a href='https://aka.ms/vscodeJupyterKernelCrash'>here</a> for more info. \n",
      "\u001b[1;31mView Jupyter <a href='command:jupyter.viewOutput'>log</a> for further details."
     ]
    }
   ],
   "source": [
    "x = dynamicHardDisks(\n",
    "        numberOfInitCycles = int(1e6), \n",
    "        numberOfProdCycles = int(2e5), \n",
    "        numberOfParticles = 50, \n",
    "        maxDisplacement = 0.2, \n",
    "        sampleFrequency = 20000,\n",
    "        boxSize = 10.0, \n",
    "    )"
   ]
  },
  {
   "cell_type": "code",
   "execution_count": null,
   "metadata": {},
   "outputs": [],
   "source": [
    "fig, ax = plt.subplots(figsize=(6,6))\n",
    "for i in range(3):\n",
    "    ax.scatter(*x[i].T % 12.0, s=400)"
   ]
  },
  {
   "cell_type": "code",
   "execution_count": null,
   "metadata": {},
   "outputs": [],
   "source": []
  }
 ],
 "metadata": {
  "kernelspec": {
   "display_name": "Python 3",
   "language": "python",
   "name": "python3"
  },
  "language_info": {
   "codemirror_mode": {
    "name": "ipython",
    "version": 3
   },
   "file_extension": ".py",
   "mimetype": "text/x-python",
   "name": "python",
   "nbconvert_exporter": "python",
   "pygments_lexer": "ipython3",
   "version": "3.11.8"
  }
 },
 "nbformat": 4,
 "nbformat_minor": 2
}
