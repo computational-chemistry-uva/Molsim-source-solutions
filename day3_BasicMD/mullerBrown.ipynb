{
 "cells": [
  {
   "cell_type": "code",
   "execution_count": null,
   "metadata": {},
   "outputs": [],
   "source": [
    "import numpy as np\n",
    "import matplotlib.pyplot as plt\n",
    "import numba\n",
    "\n",
    "from molsim import (\n",
    "    mullerBrownPotential,\n",
    "    mullerBrownPotentialAndGradient, \n",
    "    plot_muller_brown_heatmap\n",
    ")"
   ]
  },
  {
   "cell_type": "code",
   "execution_count": null,
   "metadata": {},
   "outputs": [],
   "source": [
    "plot_muller_brown_heatmap()"
   ]
  },
  {
   "cell_type": "code",
   "execution_count": null,
   "metadata": {},
   "outputs": [],
   "source": [
    "@numba.njit\n",
    "def velocityVerlet(numberOfCycles: int, totalEnergy: float, timeStep: float = 5e-4):\n",
    "    positions = np.zeros((numberOfCycles, 2), dtype=np.float32)\n",
    "    energies = np.zeros(numberOfCycles, dtype=np.float32)\n",
    "    \n",
    "    positions[0] = np.array([-0.557114228, 1.44889779])\n",
    "    \n",
    "    potentialEnergy, gradient_dx, gradient_dy = mullerBrownPotentialAndGradient(positions[0])\n",
    "    force = -np.array([gradient_dx, gradient_dy])\n",
    "    \n",
    "    theta = 2 * np.pi * np.random.rand()\n",
    "    velocity = np.array([np.cos(theta), np.sin(theta)], dtype=np.float32)\n",
    "    velocity *= np.sqrt(2 * (totalEnergy - potentialEnergy))\n",
    "    \n",
    "    computeKineticEnergy = lambda v: 0.5 * np.sum(v**2)\n",
    "    energies[0] = potentialEnergy + computeKineticEnergy(velocity)\n",
    "    \n",
    "    \n",
    "    for cycle in range(1, numberOfCycles):\n",
    "        positions[cycle] = positions[cycle - 1] + velocity * timeStep + 0.5 * force * timeStep**2\n",
    "        velocity += 0.5 * force * timeStep\n",
    "        \n",
    "        potentialEnergy, gradient_dx, gradient_dy = mullerBrownPotentialAndGradient(positions[cycle])\n",
    "        force = -np.array([gradient_dx, gradient_dy])\n",
    "        \n",
    "        velocity += 0.5 * force * timeStep\n",
    "        \n",
    "        energies[cycle] = potentialEnergy + computeKineticEnergy(velocity)\n",
    "    return positions, energies\n",
    "\n",
    "@numba.njit\n",
    "def langevin(numberOfCycles: int, temperature: float, timeStep: float = 5e-4):\n",
    "    positions = np.zeros((numberOfCycles, 2), dtype=np.float64)\n",
    "    energies = np.zeros(numberOfCycles, dtype=np.float64)\n",
    "    \n",
    "    positions[0] = np.array([-0.557114228, 1.44889779])\n",
    "    \n",
    "    potentialEnergy, gradient_dx, gradient_dy = mullerBrownPotentialAndGradient(positions[0])\n",
    "    force = -np.array([gradient_dx, gradient_dy])\n",
    "    \n",
    "    theta = 2 * np.pi * np.random.rand()\n",
    "    velocity = np.array([np.cos(theta), np.sin(theta)], dtype=np.float64)\n",
    "    velocity *= np.sqrt(temperature)\n",
    "    \n",
    "    gamma = 1.0\n",
    "    theta = np.exp(-gamma * timeStep)\n",
    "    sigma = np.sqrt((1-theta**2) * temperature)\n",
    "    \n",
    "    computeKineticEnergy = lambda v: 0.5 * np.sum(v**2)\n",
    "    energies[0] = potentialEnergy + computeKineticEnergy(velocity) \n",
    "    \n",
    "    for cycle in range(1, numberOfCycles):\n",
    "        velocity += 0.5 * force * timeStep\n",
    "        velocity = theta * velocity + sigma * np.random.randn(2)\n",
    "        \n",
    "        positions[cycle] = positions[cycle - 1] + velocity * timeStep\n",
    "        \n",
    "        potentialEnergy, gradient_dx, gradient_dy = mullerBrownPotentialAndGradient(positions[cycle])\n",
    "        force = -np.array([gradient_dx, gradient_dy])\n",
    "        \n",
    "        velocity += 0.5 * force * timeStep\n",
    "        energies[cycle] = potentialEnergy + computeKineticEnergy(velocity)\n",
    "        \n",
    "    return positions, energies\n"
   ]
  },
  {
   "cell_type": "markdown",
   "metadata": {},
   "source": [
    "## Question 1\n",
    "Implement Velocity Verlet & plot drift"
   ]
  },
  {
   "cell_type": "markdown",
   "metadata": {},
   "source": [
    "## Question 2\n",
    "Plot 8 trajectories at equal temperature and describe anomalies and minimum crossing energy."
   ]
  },
  {
   "cell_type": "markdown",
   "metadata": {},
   "source": [
    "## Question 3\n",
    "Plot the temperature and check if it is in the Maxwell-Boltzmann distribution"
   ]
  },
  {
   "cell_type": "markdown",
   "metadata": {},
   "source": [
    "## Question 4\n",
    "Implement Langevin integrator & discuss randomness and conservation laws"
   ]
  },
  {
   "cell_type": "markdown",
   "metadata": {},
   "source": [
    "## Question 5\n",
    "Compare and contrast integrators"
   ]
  },
  {
   "cell_type": "code",
   "execution_count": null,
   "metadata": {},
   "outputs": [],
   "source": [
    "pos, energies = langevin(int(1e5), 10.0)\n",
    "print((energies[-1] - energies[0]) / energies[0])\n",
    "print(np.mean(energies[100:]))"
   ]
  },
  {
   "cell_type": "code",
   "execution_count": null,
   "metadata": {},
   "outputs": [],
   "source": [
    "fig, ax = plt.subplots(2,4, figsize=(24,10))\n",
    "ax=ax.flatten()\n",
    "for i in range(ax.shape[0]):\n",
    "    plot_muller_brown_heatmap(ax[i])\n",
    "    pos, energies = langevin(int(1e7), 10.0)\n",
    "    ax[i].plot(*pos[::10].T, lw=0.5, c='red')\n",
    "fig.tight_layout()"
   ]
  },
  {
   "cell_type": "code",
   "execution_count": null,
   "metadata": {},
   "outputs": [],
   "source": []
  }
 ],
 "metadata": {
  "kernelspec": {
   "display_name": "Python 3",
   "language": "python",
   "name": "python3"
  },
  "language_info": {
   "codemirror_mode": {
    "name": "ipython",
    "version": 3
   },
   "file_extension": ".py",
   "mimetype": "text/x-python",
   "name": "python",
   "nbconvert_exporter": "python",
   "pygments_lexer": "ipython3",
   "version": "3.12.7"
  }
 },
 "nbformat": 4,
 "nbformat_minor": 2
}
