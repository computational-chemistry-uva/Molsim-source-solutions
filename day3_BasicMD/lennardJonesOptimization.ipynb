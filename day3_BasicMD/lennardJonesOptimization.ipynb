{
 "cells": [
  {
   "cell_type": "code",
   "execution_count": null,
   "metadata": {},
   "outputs": [],
   "source": [
    "from molsim import MolecularDynamics\n",
    "import numpy as np\n",
    "import matplotlib.pyplot as plt\n",
    "import time"
   ]
  },
  {
   "cell_type": "markdown",
   "metadata": {},
   "source": [
    "Currently, the code for the MD package is still quite suboptimal! We can easily add some implementations that will speed up the runs. When optimizing code it is best to optimize the parts that are executed most often. In our case, the energy and force calculation is carried out $N^2$ times, meaning it is quite performance heavy. There are a few things that cost performance and by implementing them we can reach about 10x more efficiency.\n",
    "\n",
    "You can find the force computation in:\n",
    "`src/molecularDynamics/md.cpp`\n",
    "in function:\n",
    "`MolecularDynamics::calculateForce`\n",
    "\n",
    "##### Lower triangular force computation\n",
    "The double loop i, j over the numbers of particles both loop over N, while we only need to calculate the lower triangular part of the matrix. Another reason why this is inefficient is because we need an if statement checking i!=j in the inner loop. If statements make code unpredictable for the computer, leading to reduced optimization. \n",
    "\n",
    "We can change the loop from i (0, ... N) and j (0, ... N) by only considering pairs where j is larger than i. The easiest option is replacing (i != j) with (i < j), but this does not remove the if statement. Another way would be to loop i from (0, ... N - 1) and j from (i+1, ... N). However, we should consider that the a *force* added to i, should cause a counter force added to j. \n",
    "\n",
    "##### Removing pow\n",
    "Raising powers is expensive for computers! While very architecture dependent here is an overview of clock ticks per operation on floating points:\n",
    "- Addition / subtraction: 3 cycles\n",
    "- Multiplication: 3 cycles\n",
    "- Division: 10-20 cycles\n",
    "- Square root: 10-20 cycles\n",
    "- pow, exp, sin, cos, log: 20-100+ cycles\n",
    "\n",
    "This is why it can be beneficial to prevent the amount of uses of the pow function. In this case we can easily get rid of the std::sqrt function, by working with $r^2$. Furthermore, we can get rid std::pow(r, -12) function by computing $r^{-2}$ and then $r^{-6}$. Precomputing $r^{-6}$ costs one division and 3 multiplications.\n",
    "\n",
    "#### Benchmarking\n",
    "Don't forget to rebuild with `pip install .` in the main directory and restarting the notebook kernel. You can use jupyters timing function `%%timeit` to benchmark your implementations. This function will run the code 7 times and report the average time it took to complete. "
   ]
  },
  {
   "cell_type": "code",
   "execution_count": null,
   "metadata": {},
   "outputs": [],
   "source": [
    "%%timeit\n",
    "md = MolecularDynamics(\n",
    "    numberOfParticles=800,\n",
    "    temperature=1.0,\n",
    "    dt=0.005,\n",
    "    boxSize=np.cbrt(16.0) * 8.0,\n",
    "    logLevel=0,\n",
    "    seed=12,\n",
    "    numberOfEquilibrationSteps=2000,\n",
    "    numberOfProductionSteps=2000,\n",
    "    sampleFrequency=100,\n",
    ")\n",
    "md.run()"
   ]
  },
  {
   "cell_type": "code",
   "execution_count": null,
   "metadata": {},
   "outputs": [],
   "source": [
    "npart = [100, 200, 400, 800, 1600]\n",
    "times = [0.0924, 0.392, 1.28, 3.94, 12.2]\n",
    "fig, ax = plt.subplots()\n",
    "# ax.set_xscale(\"log\")\n",
    "# ax.set_yscale(\"log\")\n",
    "ax.scatter(npart, times)"
   ]
  },
  {
   "cell_type": "code",
   "execution_count": null,
   "metadata": {},
   "outputs": [],
   "source": []
  }
 ],
 "metadata": {
  "kernelspec": {
   "display_name": "Python 3",
   "language": "python",
   "name": "python3"
  },
  "language_info": {
   "codemirror_mode": {
    "name": "ipython",
    "version": 3
   },
   "file_extension": ".py",
   "mimetype": "text/x-python",
   "name": "python",
   "nbconvert_exporter": "python",
   "pygments_lexer": "ipython3",
   "version": "3.12.7"
  }
 },
 "nbformat": 4,
 "nbformat_minor": 2
}
