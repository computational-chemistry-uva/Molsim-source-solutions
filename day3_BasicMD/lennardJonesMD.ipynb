{
 "cells": [
  {
   "cell_type": "code",
   "execution_count": null,
   "metadata": {},
   "outputs": [],
   "source": [
    "from molsim import MolecularDynamics\n",
    "import matplotlib.pyplot as plt\n",
    "import numpy as np\n",
    "\n",
    "plt.rc(\"font\", **{\"size\": 16})\n",
    "plt.rc(\"axes\", **{\"formatter.use_mathtext\": True, \"labelpad\": 8})"
   ]
  },
  {
   "cell_type": "markdown",
   "metadata": {},
   "source": [
    "# Molecular Dynamics techniques"
   ]
  },
  {
   "cell_type": "markdown",
   "metadata": {},
   "source": [
    "### Initialize Molecular Dynamics system"
   ]
  },
  {
   "cell_type": "markdown",
   "metadata": {},
   "source": [
    "The MD program consists of a main MolecularDynamics object, found in `src/molecularDynamics/md.h`. The object has a constructor, that allows you to set a bunch of different settings that you might want to use in this simulation. Furthermore you will find the thermostats in `src/molecularDynamics/thermostats.h` and some samplers in `src/molecularDynamics/samplers.h`.\n",
    "\n",
    "### MolecularDynamics object\n",
    "The `MolecularDynamics` struct has a bunch of different functions. First there is the constructor `MolecularDynamics::MolecularDynamics`, which, from the input settings, sets up the simulation. First it precomputes some properties, like volume and density. Secondly, it initializes the velocities according the Maxwell-Boltzmann distribution (note that because mass = 1, in this case and therefore momentum = velocity). \n",
    "\n",
    "It also initializes all positions on a cubic lattice by calling `MolecularDynamics::latticeInitialization`, which prevents overlaps from happening, but a further minimization to the closest local minimum is done by `MolecularDynamics::gradientDescent`.\n",
    "\n",
    "### Force calculation and integration\n",
    "In MD one propagates the system by integrating the equations of motion. The integrator used for the equations of motion is the velocity Verlet integrator, which is a symplectic integrator. This means that the Hamiltonian is conserved, or, in other words, the drift or error in the ideally constant Hamiltonian is bounded. The Hamiltonian for an NVE system is (settings $m=1$)\n",
    "\n",
    "$\\mathcal{H}(p, q) = \\sum_i^{N} \\frac{p_i^2}{2} + \\mathcal{U}(q)$\n",
    "\n",
    "yielding the equations of motion:\n",
    "\n",
    "$\\dot{q} = \\frac{\\partial \\mathcal{H}}{\\partial p} = \\frac{p}{m}$\n",
    "\n",
    "$\\dot{p} = -\\frac{\\partial \\mathcal{H}}{\\partial q} = -\\frac{\\partial \\mathcal{U}}{\\partial q}$.\n",
    "\n",
    "In the velocity verlet algorithm these equations of motion are governed by updating the velocity in two half steps, once with the forces at time $t$ and once with the forces at time $t+\\Delta t$.\n",
    "\n",
    "This leads to integration scheme:\n",
    "\n",
    "$v(t + \\frac{\\Delta t}{2}) = v(t) + F(t) \\frac{\\Delta t}{2}$\n",
    "\n",
    "$q(t + \\Delta t) = q(t) + v(t) \\Delta t + F(t) \\frac{(\\Delta t)^2}{2}$\n",
    "\n",
    "$v(t + \\Delta t) = v(t + \\frac{\\Delta t}{2}) + F(t + \\Delta t) \\frac{\\Delta t}{2}$\n",
    "\n",
    "where\n",
    "\n",
    "$F(t) = -\\frac{\\partial \\mathcal{U}(q(t))}{\\partial q}$.\n",
    "\n",
    "In the code this force term is calculated in the method `MolecularDynamics::calculateForce`. This is the most computationally demanding function as it is a loop over all particle pairs. It can be nicely combined with computing the potential energy and the virial, which is used in the pressure. All particles have interaction with eachother according to the so-called Lennard-Jones potential - which has a repulsive term $r^{-12}$, which can be seen as the Pauli repulsion and an attraction term $r^{-6}$, which is often called the van der Waals term, as the van der Waals interaction also diminishes with $r^{-6}$. \n",
    "\n",
    "$\\mathcal{U}(q) = \\frac{1}{2} \\sum_i^N \\sum_{j \\neq i}^N U_{LJ}(r_{ij})$\n",
    "\n",
    "where\n",
    "\n",
    "$r_{ij} = |q_i - q_j|$\n",
    "\n",
    "and \n",
    "\n",
    "$U_{LJ}(r_{ij}) = 4 \\epsilon \\left((\\frac{\\sigma}{r})^{12} - (\\frac{\\sigma}{r})^{6} \\right)$.\n",
    "\n",
    "This force is then used in `MolecularDynamics::integrate` to sequentially update the momenta, positions and forces in given the steps in the equations of motion. At the same time, it might also make calls to the thermostat, which allows us to run a constant temperature simulation.\n",
    "\n",
    "### Thermostats\n",
    "In this tutorial we use just NVE (constant number of particles N, volume V and energy E) simulations. However, during the equilibration the kinetic energy is kept constant. While we do a constant energy simulation, it is preferable to give an input temperature, as this is more natural when doing research. Early on there might still be large shifts in kinetic energy due to the equilibration and therefore we keep it constant, using a `VelocityScaling` thermostat. This thermostat simply rescales the velocities to exactly reproduce the input temperature and therefore does not "
   ]
  },
  {
   "cell_type": "markdown",
   "metadata": {},
   "source": []
  },
  {
   "cell_type": "markdown",
   "metadata": {},
   "source": [
    "## Question 1\n",
    "Run your first MD simulation with this program. First, make sure conda is activated with `conda activate molsim` and run `pip install .` from the main directory to make sure that the molsim package is correctly installed.\n",
    "\n",
    "In the cell under this cell you will find the constructor and the run methods of the MD package. Familiarize yourself with the method of setting this up and the different arguments given."
   ]
  },
  {
   "cell_type": "code",
   "execution_count": null,
   "metadata": {},
   "outputs": [],
   "source": [
    "md = MolecularDynamics(\n",
    "    numberOfParticles=200,\n",
    "    temperature=1.0,\n",
    "    dt=0.005,\n",
    "    boxSize=8.0,\n",
    "    numberOfEquilibrationSteps=int(1e4),\n",
    "    numberOfProductionSteps=int(1e5),\n",
    "    outputPDB=True,\n",
    "    logLevel=0,\n",
    "    seed=12,\n",
    "    sampleFrequency=10,\n",
    ")\n",
    "md.run()"
   ]
  },
  {
   "cell_type": "markdown",
   "metadata": {},
   "source": [
    "Run this simulation with outputPDB set to `true`. This will generate a file named `movie.pdb` in the current directory. Download this file using\n",
    "\n",
    "`scp USER@tuva.science.uva.nl:/home/USER/molsim/day3_BasicMD/movie.pdb .`\n",
    "\n",
    "And visualize with your favourite visualization software (ie. ovito, vmd, ...)."
   ]
  },
  {
   "cell_type": "markdown",
   "metadata": {},
   "source": [
    "## Question 2\n",
    "How is one able to control the temperature in this program? After all, the total energy of the system should be constant (not the temperature) and see how the kinetic energy scales with temperature."
   ]
  },
  {
   "cell_type": "code",
   "execution_count": null,
   "metadata": {},
   "outputs": [],
   "source": [
    "md_T2 = MolecularDynamics(\n",
    "    numberOfParticles=200,\n",
    "    temperature=2.0,\n",
    "    dt=0.005,\n",
    "    boxSize=8.0,\n",
    "    numberOfEquilibrationSteps=int(1e4),\n",
    "    numberOfProductionSteps=int(1e5),\n",
    "    outputPDB=True,\n",
    "    logLevel=0,\n",
    "    seed=12,\n",
    "    sampleFrequency=100,\n",
    ")\n",
    "md_T2.run()"
   ]
  },
  {
   "cell_type": "markdown",
   "metadata": {},
   "source": [
    "#### Plot the `kineticEnergies` and `observedTemperatures` of two different input temperatures"
   ]
  },
  {
   "cell_type": "code",
   "execution_count": null,
   "metadata": {},
   "outputs": [],
   "source": [
    "fig, ax = plt.subplots(2, figsize=(8, 6))\n",
    "ax[0].plot(md.time, md.kineticEnergies)\n",
    "ax[0].plot(md_T2.time, md_T2.kineticEnergies)\n",
    "ax[1].plot(md.time, md.observedTemperatures)\n",
    "ax[1].plot(md_T2.time, md_T2.observedTemperatures)\n",
    "ax[0].set_xlabel(r\"time / $\\tau$\")\n",
    "ax[0].set_ylabel(r\"E$_{kin}$ / $\\varepsilon$\")\n",
    "\n",
    "ax[1].set_xlabel(r\"time / $\\tau$\")\n",
    "ax[1].set_ylabel(r\"T / $\\varepsilon$\")\n",
    "\n",
    "fig.tight_layout()"
   ]
  },
  {
   "cell_type": "markdown",
   "metadata": {},
   "source": [
    "## Question 3\n",
    "To test the energy drift $\\Delta E$ of the numerical integration algorithm for a given time step $\\Delta t$ after $N$ integration steps, one usually computes\n",
    "\n",
    "\\begin{equation}\n",
    "\\Delta E\\left(\\Delta t\\right) = \\frac{1}{N} \\sum_{i=1}^{i=N} \\left|\n",
    "\\frac{E\\left(0\\right) - E\\left(i\\Delta t\\right)}{E\\left(0\\right)}\n",
    "\\right|\n",
    "\\end{equation}\n",
    "\n",
    "In this equation, $E\\left(t\\right)$ is the total energy (kinetic+potential) of the system at time $t$. The program prints the average drift at the end of the run. To prevent drift, the timestep should be reasonably small given the system density. High density leads to larger forces, which lead to larger errors. Test to see how high you can push the timestep before the system starts to diverge. "
   ]
  },
  {
   "cell_type": "code",
   "execution_count": null,
   "metadata": {},
   "outputs": [],
   "source": [
    "fig, ax = plt.subplots(figsize=(8, 6))\n",
    "ax.plot(md.time, md.potentialEnergies, label=\"Potential\")\n",
    "ax.plot(md.time, md.kineticEnergies, label=\"Kinetic\")\n",
    "ax.plot(md.time, md.conservedEnergies, label=\"Conserved\")\n",
    "\n",
    "ax.set_xlabel(r\"Time, t / $\\tau$\")\n",
    "ax.set_ylabel(r\"Energy, E / $\\varepsilon$\")\n",
    "ax.legend()"
   ]
  },
  {
   "cell_type": "code",
   "execution_count": null,
   "metadata": {},
   "outputs": [],
   "source": [
    "fig, ax = plt.subplots(figsize=(8, 6))\n",
    "ax.plot(md.time, md.conservedEnergies, label=\"Conserved\")\n",
    "\n",
    "ax.set_xlabel(r\"Time, t / $\\tau$\")\n",
    "ax.set_ylabel(r\"Energy, E / $\\varepsilon$\")\n",
    "ax.legend()"
   ]
  },
  {
   "cell_type": "markdown",
   "metadata": {},
   "source": [
    "## Question 4\n",
    "An important property of symplectic integrators is that they are time reversible. Can you run the simulation with a negative timestep? Do you expect a difference given the Equations of motion?"
   ]
  },
  {
   "cell_type": "code",
   "execution_count": null,
   "metadata": {},
   "outputs": [],
   "source": [
    "md_rev = MolecularDynamics(\n",
    "    numberOfParticles=200,\n",
    "    temperature=1.0,\n",
    "    dt=-0.005,\n",
    "    boxSize=8.0,\n",
    "    numberOfEquilibrationSteps=int(1e4),\n",
    "    numberOfProductionSteps=int(1e5),\n",
    "    outputPDB=True,\n",
    "    logLevel=0,\n",
    "    seed=12,\n",
    "    sampleFrequency=1,\n",
    ")\n",
    "md_rev.run()"
   ]
  },
  {
   "cell_type": "code",
   "execution_count": null,
   "metadata": {},
   "outputs": [],
   "source": [
    "fig, ax = plt.subplots(figsize=(8, 6))\n",
    "ax.plot(md_rev.time, md_rev.conservedEnergies, label=\"Conserved\")\n",
    "\n",
    "ax.set_xlabel(r\"Time, t / $\\tau$\")\n",
    "ax.set_ylabel(r\"Energy, E / $\\varepsilon$\")\n",
    "ax.legend()"
   ]
  },
  {
   "cell_type": "markdown",
   "metadata": {},
   "source": [
    "## Question 5\n",
    "An important quantity of a liquid or gas is the so-called self diffusivity $D$. There are two methods to calculate $D$:\n",
    "\n",
    "##### By integrating the velocity autocorrelation function:\n",
    "\n",
    "\\begin{equation}\n",
    "D = \\frac{1}{3} \\int_{0}^{\\infty} \\left\\langle \\bf{v}(t) \\cdot \\bf{v} \\left(t+t^{'} \\right) \\right\\rangle dt'\n",
    "\\end{equation}\n",
    "\n",
    "or\n",
    "\n",
    "\\begin{equation}\n",
    "D = \\frac{ \\int_{0}^{\\infty} \\sum_{i=1}^{i=N} \\left\\langle \\bf{v}(i, t) \\cdot \\bf{v} \\left(i, t+t^{'} \\right) \\right\\rangle dt' }{3N}\n",
    "\\end{equation}\n",
    "\n",
    "in which $N$ is the number of particles and ${\\bf v}\\left(i,t\\right)$\n",
    "is the velocity of particle $i$ at time $t$. One should choose $t$ in\n",
    "such a way that independent time origins are taken, \\emph{i.e.} $t =\n",
    "ia\\Delta t$, $i=1,2, \\cdots , \\infty$ and $\\left\\langle {\\bf\n",
    "v}\\left(t\\right)\\cdot{\\bf v}\\left(t+a\\Delta t\\right)\\right\\rangle\n",
    "\\approx {\\bf 0}$ (why?).\n",
    "\n",
    "##### By calculating the mean square displacement:\n",
    "\n",
    "\\begin{equation}\n",
    "D = \\lim_{t' \\to \\infty} \\frac{\\left\\langle \\left| \\bf{x}\\left(t+t^{'}\\right) - \\bf{x}(t) \\right|^{2} \\right\\rangle}{6t'}\n",
    "\\end{equation}\n",
    "\n",
    "One should be very careful with the mean square displacement calculation when par-\n",
    "ticles are always translated back to the central box – why?\n",
    "\n",
    "##### Loading the Mean Square Displacement\n",
    "The mean square displacement is sampled in `MSDSampler::sample` and can be retrieved by i \n"
   ]
  },
  {
   "cell_type": "code",
   "execution_count": null,
   "metadata": {},
   "outputs": [],
   "source": [
    "msd = md.msdSampler.getResults()\n",
    "fig, ax = plt.subplots(2, 2, figsize=(8, 6))\n",
    "\n",
    "ax[0, 0].plot(msd[:, 0], msd[:, 1])\n",
    "ax[1, 0].plot(msd[:, 0], msd[:, 2])\n",
    "ax[0, 0].set_xlabel(r\"Time, t / $\\tau$\")\n",
    "ax[0, 0].set_ylabel(r\"$\\langle |x(t+t') - x(t)|^2 \\rangle$\")\n",
    "ax[1, 0].set_xlabel(r\"Time, t / $\\tau$\")\n",
    "ax[1, 0].set_ylabel(r\"$\\langle |x(t+t') - x(t)|^2 \\rangle / 6t'$\")\n",
    "\n",
    "ax[0, 1].plot(msd[:, 0], msd[:, 3])\n",
    "ax[1, 1].plot(msd[:, 0], msd[:, 4])\n",
    "ax[0, 1].set_xlabel(r\"Time, t / $\\tau$\")\n",
    "ax[0, 1].set_ylabel(r\"$\\langle v(t) \\cdot (t+t') \\rangle$\")\n",
    "ax[1, 1].set_xlabel(r\"Time, t / $\\tau$\")\n",
    "ax[1, 1].set_ylabel(r\"$\\int \\langle v(t) \\cdot (t+t') \\rangle$\")\n",
    "fig.tight_layout()"
   ]
  },
  {
   "cell_type": "markdown",
   "metadata": {},
   "source": [
    "# legacy"
   ]
  },
  {
   "cell_type": "markdown",
   "metadata": {},
   "source": []
  },
  {
   "cell_type": "markdown",
   "metadata": {},
   "source": [
    "### Question 2\n"
   ]
  },
  {
   "cell_type": "markdown",
   "metadata": {},
   "source": []
  },
  {
   "cell_type": "markdown",
   "metadata": {},
   "source": [
    "### Question 3\n",
    "\n",
    "\n"
   ]
  },
  {
   "cell_type": "markdown",
   "metadata": {},
   "source": []
  },
  {
   "cell_type": "markdown",
   "metadata": {},
   "source": [
    "### Question 4\n",
    "\n",
    "REPLACE THIS QUESTION WITH ANOTHER PRECOMPUTATION OF (1/X)\n",
    "\n",
    "As you might have noticed in the code, the implementation of the periodic boundary\n",
    "conditions is often done as follows:\n",
    "\\begin{equation}\n",
    "x = x - \\text{box}*\\text{nint}\\left(x*\\text{ibox}\\right)\n",
    "\\end{equation}\n",
    "where $\\text{ibox}$ is used instead of $1/\\text{box}$. Why would one do this?"
   ]
  },
  {
   "cell_type": "markdown",
   "metadata": {},
   "source": []
  },
  {
   "cell_type": "markdown",
   "metadata": {},
   "source": [
    "### Question 5\n",
    "\n",
    "An important quantity of a liquid or gas is the so-called self diffusivity $D$. There are two methods to calculate $D$:\n",
    "\n",
    "##### By integrating the velocity autocorrelation function:\n",
    "\n",
    "\\begin{equation}\n",
    "D = \\frac{1}{3} \\int_{0}^{\\infty} \\left\\langle \\bf{v}(t) \\cdot \\bf{v} \\left(t+t^{'} \\right) \\right\\rangle dt'\n",
    "\\end{equation}\n",
    "\n",
    "or\n",
    "\n",
    "\\begin{equation}\n",
    "D = \\frac{ \\int_{0}^{\\infty} \\sum_{i=1}^{i=N} \\left\\langle \\bf{v}(i, t) \\cdot \\bf{v} \\left(i, t+t^{'} \\right) \\right\\rangle dt' }{3N}\n",
    "\\end{equation}\n",
    "\n",
    "in which $N$ is the number of particles and ${\\bf v}\\left(i,t\\right)$\n",
    "is the velocity of particle $i$ at time $t$. One should choose $t$ in\n",
    "such a way that independent time origins are taken, \\emph{i.e.} $t =\n",
    "ia\\Delta t$, $i=1,2, \\cdots , \\infty$ and $\\left\\langle {\\bf\n",
    "v}\\left(t\\right)\\cdot{\\bf v}\\left(t+a\\Delta t\\right)\\right\\rangle\n",
    "\\approx {\\bf 0}$ (why?).\n",
    "\n",
    "##### By calculating the mean square displacement:\n",
    "\n",
    "\\begin{equation}\n",
    "D = \\lim_{t' \\to \\infty} \\frac{\\left\\langle \\left| \\bf{x}\\left(t+t^{'}\\right) - \\bf{x}(t) \\right|^{2} \\right\\rangle}{6t'}\n",
    "\\end{equation}\n",
    "\n",
    "One should be very careful with the mean square displacement calculation when par-\n",
    "ticles are always translated back to the central box – why?\n",
    "\n",
    "##### Modify the program such that\n",
    "the self diffusivity can be\n",
    "calculated using both methods. Only modifications in subroutine `SampleMSD::sample` are needed. Why is it important to use only independent time origins for the calculation of the mean square displacement and the velocity autocorrelation function? What is the unit of $D$ in SI units? How can one transform $D$ into dimensionless units?\n"
   ]
  },
  {
   "cell_type": "markdown",
   "metadata": {},
   "source": []
  },
  {
   "cell_type": "markdown",
   "metadata": {},
   "source": [
    "### Question 6\n",
    "\n",
    "For Lennard-Jones liquids, Naghizadeh and Rice report the\n",
    "following equation for the self diffusivity (dimensionless units,\n",
    "$T^* <1.0$ and $p^* <3.0$) \n",
    "\n",
    "\\begin{equation}\n",
    "{\\rm ^{\\rm 10}log}\\left(D^* \\right) = 0.05 + 0.07p^* - \\frac{1.04 +\n",
    "0.1p^*}{T^*}\n",
    "\\end{equation}\n",
    "\n",
    "Try to confirm this equation with simulations. "
   ]
  },
  {
   "cell_type": "markdown",
   "metadata": {},
   "source": []
  },
  {
   "cell_type": "markdown",
   "metadata": {},
   "source": [
    "### Question 7\n",
    "\n",
    "Instead of calculating the average potential $\\left\\langle U\n",
    "\\right\\rangle$ directly, one can use the radial distribution function\n",
    "$g\\left(r\\right)$. Derive an expression for $\\left\\langle U\n",
    "\\right\\rangle$ using $g\\left(r\\right)$. Compare this calculation with\n",
    "a direct calculation of the average energy. A similar method can be\n",
    "used to compute the average pressure."
   ]
  },
  {
   "cell_type": "markdown",
   "metadata": {},
   "source": []
  },
  {
   "cell_type": "markdown",
   "metadata": {},
   "source": [
    "### Question 8\n",
    "\n",
    "In the current version of the code, the equation of motion are\n",
    "integrated by the Verlet algorithm. Make a plot of the energy drift\n",
    "$\\Delta U$ for the following integration algorithms:\n",
    "- Euler (never use this one except here !!!)\n",
    "- Verlet\n",
    "- Velocity Verlet\n",
    "\n"
   ]
  },
  {
   "cell_type": "code",
   "execution_count": null,
   "metadata": {},
   "outputs": [],
   "source": [
    "rdf = md.rdfSampler.getResults()\n",
    "msd = md.msdSampler.getResults()"
   ]
  },
  {
   "cell_type": "code",
   "execution_count": null,
   "metadata": {},
   "outputs": [],
   "source": [
    "fig, ax = plt.subplots(figsize=(8, 6))\n",
    "ax.scatter(*rdf.T)\n",
    "ax.set_xlabel(\"Distance, r / $\\sigma$\")\n",
    "ax.set_ylabel(\"g(r) / -\")"
   ]
  },
  {
   "cell_type": "code",
   "execution_count": null,
   "metadata": {},
   "outputs": [],
   "source": []
  },
  {
   "cell_type": "code",
   "execution_count": null,
   "metadata": {},
   "outputs": [],
   "source": [
    "fig, ax = plt.subplots(2, figsize=(8, 6), sharex=True)\n",
    "ax[0].plot(msd[:100, 0], msd[:100, 3])\n",
    "ax[1].plot(msd[:100, 0], msd[:100, 4])\n",
    "\n",
    "ax[1].set_xlabel(\"Time\")\n",
    "ax[0].set_ylabel(\"VACF\")\n",
    "ax[1].set_ylabel(\"$\\int$ d$t$ VACF\")\n",
    "fig.tight_layout()"
   ]
  },
  {
   "cell_type": "code",
   "execution_count": null,
   "metadata": {},
   "outputs": [],
   "source": []
  },
  {
   "cell_type": "code",
   "execution_count": null,
   "metadata": {},
   "outputs": [],
   "source": []
  }
 ],
 "metadata": {
  "kernelspec": {
   "display_name": "Python 3",
   "language": "python",
   "name": "python3"
  },
  "language_info": {
   "codemirror_mode": {
    "name": "ipython",
    "version": 3
   },
   "file_extension": ".py",
   "mimetype": "text/x-python",
   "name": "python",
   "nbconvert_exporter": "python",
   "pygments_lexer": "ipython3",
   "version": "3.12.7"
  }
 },
 "nbformat": 4,
 "nbformat_minor": 2
}
