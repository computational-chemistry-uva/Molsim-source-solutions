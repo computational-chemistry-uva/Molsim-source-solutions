{
 "cells": [
  {
   "cell_type": "code",
   "execution_count": null,
   "metadata": {},
   "outputs": [],
   "source": [
    "from molsim import MolecularDynamics\n",
    "import matplotlib.pyplot as plt\n",
    "import numpy as np"
   ]
  },
  {
   "cell_type": "code",
   "execution_count": null,
   "metadata": {},
   "outputs": [],
   "source": [
    "md = MolecularDynamics(\n",
    "    numberOfParticles=200,\n",
    "    temperature=1.0,\n",
    "    dt=0.005,\n",
    "    boxSize=8.0,\n",
    "    numberOfEquilibrationSteps=int(1e4),\n",
    "    numberOfProductionSteps=int(1e5),\n",
    "    outputPDB=True,\n",
    "    logLevel=0,\n",
    "    seed=12,\n",
    "    sampleFrequency=100,\n",
    "    useNoseHoover=True,\n",
    "    noseHooverTimeScaleParameter=200\n",
    ")\n",
    "md.run()"
   ]
  },
  {
   "cell_type": "code",
   "execution_count": null,
   "metadata": {},
   "outputs": [],
   "source": [
    "fig, ax = plt.subplots()\n",
    "kin = np.array(md.kineticEnergies)\n",
    "pot = np.array(md.potentialEnergies)\n",
    "cons = np.array(md.conservedEnergies)\n",
    "\n",
    "ax.plot(md.time, kin, label=r\"$E_{kin}$\")\n",
    "ax.plot(md.time, pot, label=r\"$E_{pot}$\")\n",
    "ax.plot(md.time, kin + pot, label=r\"$E_{total}$\")\n",
    "ax.plot(md.time, cons, label=r\"$E_{Conserved}$\")\n",
    "ax.plot(md.time, cons - kin - pot, label=r\"$E_{NH}$\")\n",
    "ax.legend()\n",
    "ax.set_xlabel(\"Time\")\n",
    "ax.set_ylabel(\"Energy\")"
   ]
  },
  {
   "cell_type": "code",
   "execution_count": null,
   "metadata": {},
   "outputs": [],
   "source": [
    "fig, ax = plt.subplots()\n",
    "\n",
    "md_NVE = MolecularDynamics(\n",
    "    numberOfParticles=200,\n",
    "    temperature=1.0,\n",
    "    dt=0.005,\n",
    "    boxSize=8.0,\n",
    "    numberOfEquilibrationSteps=int(1e4),\n",
    "    numberOfProductionSteps=int(1e5),\n",
    "    outputPDB=True,\n",
    "    logLevel=0,\n",
    "    seed=12,\n",
    "    sampleFrequency=100,\n",
    "    useNoseHoover=False,\n",
    ")\n",
    "md_NVE.run()\n",
    "\n",
    "md_NVT = MolecularDynamics(\n",
    "    numberOfParticles=200,\n",
    "    temperature=1.0,\n",
    "    dt=0.005,\n",
    "    boxSize=8.0,\n",
    "    numberOfEquilibrationSteps=int(1e4),\n",
    "    numberOfProductionSteps=int(1e5),\n",
    "    outputPDB=True,\n",
    "    logLevel=0,\n",
    "    seed=12,\n",
    "    sampleFrequency=100,\n",
    "    useNoseHoover=True,\n",
    "    noseHooverTimeScaleParameter=100\n",
    ")\n",
    "md_NVT.run()\n",
    "\n",
    "\n",
    "\n",
    "ax.hist(md_NVE.observedTemperatures, bins=50, density=True, edgecolor='black', alpha=0.7, label=\"NVE\")\n",
    "ax.hist(md_NVT.observedTemperatures, bins=50, density=True, edgecolor='black', alpha=0.7, label=\"NVT\")\n",
    "ax.legend()"
   ]
  },
  {
   "cell_type": "markdown",
   "metadata": {},
   "source": [
    "## Question 1\n",
    "Extended system Hamiltonian"
   ]
  },
  {
   "cell_type": "markdown",
   "metadata": {},
   "source": [
    "## Question 2\n",
    "Run over different temperatures and plot kinetic energy distributions. Compare with NVE."
   ]
  },
  {
   "cell_type": "markdown",
   "metadata": {},
   "source": [
    "## Question 3\n",
    "Vary timescale parameter"
   ]
  },
  {
   "cell_type": "markdown",
   "metadata": {},
   "source": [
    "## Question 4\n",
    "Timestep and timescaleparameter stability"
   ]
  },
  {
   "cell_type": "markdown",
   "metadata": {},
   "source": []
  },
  {
   "cell_type": "code",
   "execution_count": null,
   "metadata": {},
   "outputs": [],
   "source": []
  },
  {
   "cell_type": "code",
   "execution_count": null,
   "metadata": {},
   "outputs": [],
   "source": []
  },
  {
   "cell_type": "code",
   "execution_count": null,
   "metadata": {},
   "outputs": [],
   "source": []
  }
 ],
 "metadata": {
  "kernelspec": {
   "display_name": "Python 3",
   "language": "python",
   "name": "python3"
  },
  "language_info": {
   "codemirror_mode": {
    "name": "ipython",
    "version": 3
   },
   "file_extension": ".py",
   "mimetype": "text/x-python",
   "name": "python",
   "nbconvert_exporter": "python",
   "pygments_lexer": "ipython3",
   "version": "3.12.7"
  }
 },
 "nbformat": 4,
 "nbformat_minor": 2
}
