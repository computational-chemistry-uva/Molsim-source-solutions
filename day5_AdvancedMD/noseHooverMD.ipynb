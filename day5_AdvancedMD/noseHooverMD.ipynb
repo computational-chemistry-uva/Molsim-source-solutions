{
 "cells": [
  {
   "cell_type": "code",
   "execution_count": null,
   "metadata": {},
   "outputs": [],
   "source": [
    "from molsim import MolecularDynamics\n",
    "import matplotlib.pyplot as plt\n",
    "import numpy as np\n",
    "\n",
    "plt.rc(\"font\", **{\"size\": 16})\n",
    "plt.rc(\"axes\", **{\"formatter.use_mathtext\": True, \"labelpad\": 8})"
   ]
  },
  {
   "cell_type": "code",
   "execution_count": null,
   "metadata": {},
   "outputs": [],
   "source": [
    "md = MolecularDynamics(\n",
    "    numberOfParticles=200,\n",
    "    temperature=1.0,\n",
    "    dt=0.005,\n",
    "    boxSize=8.0,\n",
    "    numberOfEquilibrationSteps=int(1e4),\n",
    "    numberOfProductionSteps=int(1e5),\n",
    "    outputPDB=True,\n",
    "    logLevel=0,\n",
    "    seed=12,\n",
    "    sampleFrequency=100,\n",
    "    useNoseHoover=True,\n",
    ")\n",
    "md.run()"
   ]
  },
  {
   "cell_type": "code",
   "execution_count": null,
   "metadata": {},
   "outputs": [],
   "source": [
    "fig, ax = plt.subplots(figsize=(8, 6))\n",
    "kin = np.array(md.kineticEnergies)\n",
    "pot = np.array(md.potentialEnergies)\n",
    "cons = np.array(md.conservedEnergies)\n",
    "\n",
    "ax.plot(md.time, kin, label=r\"$E_{kin}$\")\n",
    "ax.plot(md.time, pot, label=r\"$E_{pot}$\")\n",
    "ax.plot(md.time, kin + pot, label=r\"$E_{total}$\")\n",
    "ax.plot(md.time, cons, label=r\"$E_{Conserved}$\")\n",
    "ax.plot(md.time, cons - kin - pot, label=r\"$E_{NH}$\")\n",
    "ax.legend()\n",
    "ax.set_xlabel(\"Time\")\n",
    "ax.set_ylabel(\"Energy\")"
   ]
  },
  {
   "cell_type": "code",
   "execution_count": null,
   "metadata": {},
   "outputs": [],
   "source": []
  }
 ],
 "metadata": {
  "kernelspec": {
   "display_name": "Python 3",
   "language": "python",
   "name": "python3"
  },
  "language_info": {
   "codemirror_mode": {
    "name": "ipython",
    "version": 3
   },
   "file_extension": ".py",
   "mimetype": "text/x-python",
   "name": "python",
   "nbconvert_exporter": "python",
   "pygments_lexer": "ipython3",
   "version": "3.12.7"
  }
 },
 "nbformat": 4,
 "nbformat_minor": 2
}
