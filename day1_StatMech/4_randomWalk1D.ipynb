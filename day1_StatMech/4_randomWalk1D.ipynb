{
 "cells": [
  {
   "cell_type": "code",
   "execution_count": 1,
   "metadata": {},
   "outputs": [],
   "source": [
    "import numpy as np\n",
    "import matplotlib.pyplot as plt\n",
    "import numba"
   ]
  },
  {
   "cell_type": "code",
   "execution_count": 4,
   "metadata": {},
   "outputs": [],
   "source": [
    "#@numba.jit\n",
    "def randomWalk1D(numberOfCycles, jumpsPerCycle, p=0.5):\n",
    "    distribution = np.zeros(2 * jumpsPerCycle + 1)\n",
    "    positions = np.zeros(jumpsPerCycle)\n",
    "    msd = np.zeros(jumpsPerCycle)\n",
    "    \n",
    "    for cycle in range(numberOfCycles):\n",
    "        currentPosition = 0\n",
    "        \n",
    "        # Make displacements and save to positions array\n",
    "        for k in range(jumpsPerCycle):\n",
    "            currentPosition += (1 if np.random.rand() < p else -1)\n",
    "            positions[k] = currentPosition\n",
    "        \n",
    "        # Update MSD and position position distribution\n",
    "        msd += sampleMSD(positions, jumpsPerCycle)\n",
    "        distribution[int(currentPosition + jumpsPerCycle)] += 1\n",
    "        \n",
    "    # normalize\n",
    "    distribution /= (numberOfCycles * jumpsPerCycle)\n",
    "    msd /= numberOfCycles\n",
    "    return distribution, msd\n",
    "\n",
    "#@numba.jit\n",
    "def sampleMSD(positions, jumpsPerCycle):\n",
    "    # This implementation is post-hoc, which is fine if you can pass an array of positions, \n",
    "    # but is intractable for simulations, as we then have to save (T, N, 3) sized position arrays.\n",
    "    msd = np.zeros(jumpsPerCycle)\n",
    "    for dt in range(1, jumpsPerCycle):\n",
    "        msd[dt] = np.mean((positions[dt:] - positions[:-dt])**2)\n",
    "    return msd\n",
    "    "
   ]
  },
  {
   "cell_type": "code",
   "execution_count": 5,
   "metadata": {},
   "outputs": [],
   "source": [
    "numberOfCycles = 100000\n",
    "jumpsPerCycle = 100\n",
    "p = 0.5\n",
    "\n",
    "walk, msd = randomWalk1D(numberOfCycles, jumpsPerCycle, p)"
   ]
  },
  {
   "cell_type": "code",
   "execution_count": null,
   "metadata": {},
   "outputs": [],
   "source": [
    "fig, ax = plt.subplots(2)\n",
    "ax[0].plot(np.arange(-jumpsPerCycle, jumpsPerCycle + 1), walk)\n",
    "ax[0].set_xlim(-100, 100)\n",
    "ax[1].plot(msd)"
   ]
  },
  {
   "cell_type": "code",
   "execution_count": null,
   "metadata": {},
   "outputs": [],
   "source": []
  },
  {
   "cell_type": "code",
   "execution_count": null,
   "metadata": {},
   "outputs": [],
   "source": []
  }
 ],
 "metadata": {
  "kernelspec": {
   "display_name": "Python 3",
   "language": "python",
   "name": "python3"
  },
  "language_info": {
   "codemirror_mode": {
    "name": "ipython",
    "version": 3
   },
   "file_extension": ".py",
   "mimetype": "text/x-python",
   "name": "python",
   "nbconvert_exporter": "python",
   "pygments_lexer": "ipython3",
   "version": "3.11.8"
  }
 },
 "nbformat": 4,
 "nbformat_minor": 2
}
