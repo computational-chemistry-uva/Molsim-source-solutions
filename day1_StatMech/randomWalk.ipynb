{
 "cells": [
  {
   "cell_type": "code",
   "execution_count": null,
   "metadata": {},
   "outputs": [],
   "source": [
    "import numpy as np\n",
    "import matplotlib.pyplot as plt\n",
    "import numba"
   ]
  },
  {
   "cell_type": "code",
   "execution_count": null,
   "metadata": {},
   "outputs": [],
   "source": [
    "#@numba.jit\n",
    "def randomWalk1D(numberOfCycles, jumpsPerCycle, p=0.5):\n",
    "    distribution = np.zeros(2 * jumpsPerCycle + 1)\n",
    "    positions = np.zeros(jumpsPerCycle)\n",
    "    msd = np.zeros(jumpsPerCycle)\n",
    "    \n",
    "    for cycle in range(numberOfCycles):\n",
    "        currentPosition = 0\n",
    "        \n",
    "        # Make displacements and save to positions array\n",
    "        for k in range(jumpsPerCycle):\n",
    "            currentPosition += (1 if np.random.rand() < p else -1)\n",
    "            positions[k] = currentPosition\n",
    "        \n",
    "        # Update MSD and position position distribution\n",
    "        msd += sampleMSD(positions, jumpsPerCycle)\n",
    "        distribution[int(currentPosition + jumpsPerCycle)] += 1\n",
    "        \n",
    "    # normalize\n",
    "    distribution /= (numberOfCycles * jumpsPerCycle)\n",
    "    msd /= numberOfCycles\n",
    "    return distribution, msd\n",
    "\n",
    "#@numba.jit\n",
    "def sampleMSD(positions, jumpsPerCycle):\n",
    "    # This implementation is post-hoc, which is fine if you can pass an array of positions, \n",
    "    # but is intractable for simulations, as we then have to save (T, N, 3) sized position arrays.\n",
    "    msd = np.zeros(jumpsPerCycle)\n",
    "    for dt in range(1, jumpsPerCycle):\n",
    "        msd[dt] = np.mean((positions[dt:] - positions[:-dt])**2)\n",
    "    return msd\n",
    "\n",
    "latticeVectors = np.array([[1,0], [0,1], [-1,0], [0,-1]], dtype=np.int32)\n",
    "\n",
    "@numba.njit\n",
    "def randomWalk2D(numberOfCycles: int, numberOfParticles: int, latticeSize: int, maxCorrelationTime: int = 500, maxOrigins: int = 50):\n",
    "    lattice = np.zeros((latticeSize, latticeSize), dtype=np.int32)\n",
    "    \n",
    "    # select random lattice sites to initialize particles\n",
    "    indices = np.random.choice(latticeSize**2, size=numberOfParticles, replace=False)\n",
    "    xPositions = indices % latticeSize\n",
    "    yPositions = indices // latticeSize\n",
    "    \n",
    "    positions = np.column_stack((xPositions, yPositions))\n",
    "    unwrappedPositions = positions.copy()\n",
    "\n",
    "    # msd sampling\n",
    "    msd = np.zeros((maxCorrelationTime, 2))\n",
    "    counts = np.zeros(maxCorrelationTime, dtype=np.int32)\n",
    "    originPositions = np.zeros((maxOrigins, numberOfParticles, 2))\n",
    "    originTimes = np.zeros(maxOrigins, dtype=np.int32)\n",
    "    originIndex = 0\n",
    "    originInterval = 50\n",
    "\n",
    "    accepted = 0\n",
    "\n",
    "    for cycle in range(numberOfCycles):\n",
    "        # Select particle and displacement\n",
    "        particleIndex = np.random.choice(numberOfParticles)\n",
    "        dx = latticeVectors[np.random.choice(4)]\n",
    "        xold, yold = positions[particleIndex]\n",
    "        \n",
    "        # Get new position and wrap in box\n",
    "        newPosition = (positions[particleIndex] + dx) % latticeSize\n",
    "        xnew, ynew = newPosition\n",
    "        \n",
    "        # Check if lattice site is occupied\n",
    "        if lattice[xnew, ynew] == 0:\n",
    "            accepted += 1\n",
    "            lattice[xold, yold] = 0\n",
    "            lattice[xnew, ynew] = 1\n",
    "            positions[particleIndex] = newPosition\n",
    "            unwrappedPositions[particleIndex] += dx\n",
    "    \n",
    "        if (cycle > 0.25 * numberOfCycles):\n",
    "            # sample msd\n",
    "            if cycle % originInterval == 0:\n",
    "                originTimes[originIndex] = cycle\n",
    "                originPositions[originIndex] = unwrappedPositions\n",
    "                originIndex = (originIndex + 1) % maxOrigins\n",
    "\n",
    "            for i in range(min(cycle // maxOrigins, maxOrigins)):\n",
    "                time_difference = cycle - originTimes[i]\n",
    "                if time_difference < maxCorrelationTime:\n",
    "                    counts[time_difference] += 1\n",
    "                    msd[time_difference] += np.sum((unwrappedPositions - originPositions[i])**2, axis=0)\n",
    "\n",
    "    nonZero = counts > 0\n",
    "    msd[nonZero] /= counts[nonZero][:, None]\n",
    "\n",
    "    print(f\"Total accepted: {accepted}\\nLattice occupation: {np.sum(lattice)}\")\n",
    "    return msd\n",
    "\n",
    "    "
   ]
  },
  {
   "cell_type": "code",
   "execution_count": null,
   "metadata": {},
   "outputs": [],
   "source": [
    "numberOfCycles = 10000\n",
    "jumpsPerCycle = 100\n",
    "p = 0.5\n",
    "\n",
    "walk, msd = randomWalk1D(numberOfCycles, jumpsPerCycle, p)"
   ]
  },
  {
   "cell_type": "code",
   "execution_count": null,
   "metadata": {},
   "outputs": [],
   "source": [
    "fig, ax = plt.subplots(2)\n",
    "ax[0].plot(np.arange(-jumpsPerCycle, jumpsPerCycle + 1), walk)\n",
    "ax[0].set_xlim(-100, 100)\n",
    "ax[1].plot(msd)"
   ]
  },
  {
   "cell_type": "code",
   "execution_count": null,
   "metadata": {},
   "outputs": [],
   "source": [
    "numberOfParticles = 800\n",
    "latticeSize = 40\n",
    "numberOfCycles = 1000000"
   ]
  },
  {
   "cell_type": "code",
   "execution_count": null,
   "metadata": {},
   "outputs": [],
   "source": [
    "msd = randomWalk2D(numberOfCycles, numberOfParticles, latticeSize)"
   ]
  },
  {
   "cell_type": "code",
   "execution_count": null,
   "metadata": {},
   "outputs": [],
   "source": [
    "fig, ax = plt.subplots()\n",
    "ax.plot(msd[:, 0])\n",
    "ax.plot(msd[:, 1])"
   ]
  },
  {
   "cell_type": "code",
   "execution_count": null,
   "metadata": {},
   "outputs": [],
   "source": [
    "x.plot(msd[:, 1])"
   ]
  }
 ],
 "metadata": {
  "kernelspec": {
   "display_name": "Python 3",
   "language": "python",
   "name": "python3"
  },
  "language_info": {
   "codemirror_mode": {
    "name": "ipython",
    "version": 3
   },
   "file_extension": ".py",
   "mimetype": "text/x-python",
   "name": "python",
   "nbconvert_exporter": "python",
   "pygments_lexer": "ipython3",
   "version": "3.12.7"
  }
 },
 "nbformat": 4,
 "nbformat_minor": 2
}
