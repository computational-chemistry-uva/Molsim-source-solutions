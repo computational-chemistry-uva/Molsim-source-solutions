{
 "cells": [
  {
   "cell_type": "code",
   "execution_count": 1,
   "metadata": {},
   "outputs": [],
   "source": [
    "import numpy as np\n",
    "import matplotlib.pyplot as plt\n",
    "import numba"
   ]
  },
  {
   "cell_type": "code",
   "execution_count": 6,
   "metadata": {},
   "outputs": [],
   "source": [
    "latticeVectors = np.array([[1,0], [0,1], [-1,0], [0,-1]], dtype=np.int32)\n",
    "\n",
    "@numba.njit\n",
    "def randomWalk2D(numberOfCycles: int, numberOfParticles: int, latticeSize: int, maxCorrelationTime: int = 500, maxOrigins: int = 50):\n",
    "    lattice = np.zeros((latticeSize, latticeSize), dtype=np.int32)\n",
    "    \n",
    "    # select random lattice sites to initialize particles\n",
    "    indices = np.random.choice(latticeSize**2, size=numberOfParticles, replace=False)\n",
    "    xPositions = indices % latticeSize\n",
    "    yPositions = indices // latticeSize\n",
    "    \n",
    "    positions = np.column_stack((xPositions, yPositions))\n",
    "    unwrappedPositions = positions.copy()\n",
    "\n",
    "    # msd sampling\n",
    "    msd = np.zeros((maxCorrelationTime, 2))\n",
    "    counts = np.zeros(maxCorrelationTime, dtype=np.int32)\n",
    "    originPositions = np.zeros((maxOrigins, numberOfParticles, 2))\n",
    "    originTimes = np.zeros(maxOrigins, dtype=np.int32)\n",
    "    originIndex = 0\n",
    "    originInterval = 50\n",
    "\n",
    "    accepted = 0\n",
    "\n",
    "    for cycle in range(numberOfCycles):\n",
    "        # Select particle and displacement\n",
    "        particleIndex = np.random.choice(numberOfParticles)\n",
    "        dx = latticeVectors[np.random.choice(4)]\n",
    "        xold, yold = positions[particleIndex]\n",
    "        \n",
    "        # Get new position and wrap in box\n",
    "        newPosition = (positions[particleIndex] + dx) % latticeSize\n",
    "        xnew, ynew = newPosition\n",
    "        \n",
    "        # Check if lattice site is occupied\n",
    "        if lattice[xnew, ynew] == 0:\n",
    "            accepted += 1\n",
    "            lattice[xold, yold] = 0\n",
    "            lattice[xnew, ynew] = 1\n",
    "            positions[particleIndex] = newPosition\n",
    "            unwrappedPositions[particleIndex] += dx\n",
    "    \n",
    "        if (cycle > 0.25 * numberOfCycles):\n",
    "            # sample msd\n",
    "            if cycle % originInterval == 0:\n",
    "                originTimes[originIndex] = cycle\n",
    "                originPositions[originIndex] = unwrappedPositions\n",
    "                originIndex = (originIndex + 1) % maxOrigins\n",
    "\n",
    "            for i in range(min(cycle // maxOrigins, maxOrigins)):\n",
    "                time_difference = cycle - originTimes[i]\n",
    "                if time_difference < maxCorrelationTime:\n",
    "                    counts[time_difference] += 1\n",
    "                    msd[time_difference] += np.sum((unwrappedPositions - originPositions[i])**2, axis=0)\n",
    "\n",
    "    nonZero = counts > 0\n",
    "    msd[nonZero] /= counts[nonZero][:, None]\n",
    "\n",
    "    print(f\"Total accepted: {accepted}\\nLattice occupation: {np.sum(lattice)}\")\n",
    "    return msd\n",
    "\n",
    "def linearFit(x, y, delta=0.001, error=0.001, maxLoops=int(1e5), a=1.0, b=0.0):\n",
    "    \n",
    "    for _ in range(maxLoops):\n",
    "        yhat = a * x - b\n",
    "        mse = np.mean((yhat - y)**2)\n",
    "        if mse <= error:\n",
    "            return a, b\n",
    "        a += delta * np.sum((yhat - y) * x)\n",
    "        b += delta * np.sum(yhat-y)\n",
    "    return a, b\n",
    "        "
   ]
  },
  {
   "cell_type": "code",
   "execution_count": 3,
   "metadata": {},
   "outputs": [],
   "source": [
    "numberOfParticles = 800\n",
    "latticeSize = 40\n",
    "numberOfCycles = 1000000"
   ]
  },
  {
   "cell_type": "code",
   "execution_count": 4,
   "metadata": {},
   "outputs": [
    {
     "name": "stdout",
     "output_type": "stream",
     "text": [
      "Total accepted: 502544\n",
      "Lattice occupation: 800\n"
     ]
    }
   ],
   "source": [
    "msd = randomWalk2D(numberOfCycles, numberOfParticles, latticeSize)"
   ]
  },
  {
   "cell_type": "code",
   "execution_count": 5,
   "metadata": {},
   "outputs": [
    {
     "data": {
      "text/plain": [
       "[<matplotlib.lines.Line2D at 0x1425ca010>]"
      ]
     },
     "execution_count": 5,
     "metadata": {},
     "output_type": "execute_result"
    },
    {
     "data": {
      "image/png": "[encoded data removed]",
      "text/plain": [
       "<Figure size 640x480 with 1 Axes>"
      ]
     },
     "metadata": {},
     "output_type": "display_data"
    }
   ],
   "source": [
    "fig, ax = plt.subplots()\n",
    "ax.plot(msd[:, 0])\n",
    "ax.plot(msd[:, 1])"
   ]
  },
  {
   "cell_type": "code",
   "execution_count": null,
   "metadata": {},
   "outputs": [],
   "source": []
  }
 ],
 "metadata": {
  "kernelspec": {
   "display_name": "Python 3",
   "language": "python",
   "name": "python3"
  },
  "language_info": {
   "codemirror_mode": {
    "name": "ipython",
    "version": 3
   },
   "file_extension": ".py",
   "mimetype": "text/x-python",
   "name": "python",
   "nbconvert_exporter": "python",
   "pygments_lexer": "ipython3",
   "version": "3.11.10"
  }
 },
 "nbformat": 4,
 "nbformat_minor": 2
}
