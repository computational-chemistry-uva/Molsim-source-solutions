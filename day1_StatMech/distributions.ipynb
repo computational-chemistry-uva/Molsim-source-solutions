{
 "cells": [
  {
   "cell_type": "code",
   "execution_count": null,
   "metadata": {},
   "outputs": [],
   "source": [
    "import numpy as np\n",
    "import matplotlib.pyplot as plt\n",
    "import matplotlib.gridspec as gridspec\n",
    "import scipy\n",
    "import numba"
   ]
  },
  {
   "cell_type": "code",
   "execution_count": null,
   "metadata": {},
   "outputs": [],
   "source": [
    "def lastNonZero(series: np.ndarray):\n",
    "    return len(series) - np.where(series[::-1] > 0)[0][0]\n",
    "\n",
    "\n",
    "def plotDistribution(\n",
    "    particlesInCompartment: np.ndarray,\n",
    "    numberOfParticles: int,\n",
    "    analyticalParticleDistribution: np.ndarray = None,\n",
    "    analyticalCompartmentDistribution: np.ndarray = None,\n",
    "):\n",
    "\n",
    "    numberOfCompartments = particlesInCompartment.shape[1]\n",
    "    colors = plt.cm.cividis(np.linspace(1, 0, numberOfCompartments))\n",
    "\n",
    "    # Create a figure with a custom gridspec\n",
    "    fig = plt.figure(figsize=(12, 8))\n",
    "    gs = gridspec.GridSpec(2, 2, height_ratios=[2, 1])  # Two rows, two columns, bottom row is taller\n",
    "\n",
    "    # Create the subplots\n",
    "    ax0 = fig.add_subplot(gs[0, 0])  # Top-left\n",
    "    ax1 = fig.add_subplot(gs[0, 1])  # Top-right\n",
    "    ax2 = fig.add_subplot(gs[1, :])  # Bottom, spanning both columns\n",
    "\n",
    "    totalDistribution = np.zeros(numberOfParticles)\n",
    "    for c in range(numberOfCompartments):\n",
    "        distribution, _ = np.histogram(\n",
    "            particlesInCompartment[:, c], bins=numberOfParticles, range=(-0.5, numberOfParticles + 0.5), density=True\n",
    "        )\n",
    "        ax0.plot(distribution, label=f\"$E_{{{c}}}$\", c=colors[c], lw=1)\n",
    "        totalDistribution += distribution\n",
    "\n",
    "    if analyticalParticleDistribution is not None:\n",
    "        ax0.plot(analyticalParticleDistribution, label=\"Analytical\", c=\"black\")\n",
    "\n",
    "    ax0.set_xlabel(\"Number of particles\")\n",
    "    ax0.set_ylabel(\"Density\")\n",
    "    ax0.set_xlim(0, lastNonZero(totalDistribution))\n",
    "    ax0.legend(fontsize=12)\n",
    "\n",
    "    ax1.boxplot(\n",
    "        particlesInCompartment,\n",
    "        patch_artist=True,\n",
    "        boxprops=dict(facecolor=\"skyblue\"),\n",
    "        tick_labels=np.arange(numberOfCompartments),\n",
    "    )\n",
    "    ax1.set_xlabel(\"Compartment\")\n",
    "    ax1.set_ylabel(\"Number of particles\")\n",
    "    if analyticalCompartmentDistribution is not None:\n",
    "        ax1.plot(np.arange(numberOfCompartments) + 1, analyticalCompartmentDistribution, label=\"Analytical\", c=\"black\")\n",
    "    ax1.legend()\n",
    "\n",
    "    ax2.axis(\"off\")\n",
    "    ax2.text(0.3, 0.0, \"Distribution in last cycle\", fontsize=24)\n",
    "    for i, val in enumerate(particlesInCompartment[-1]):\n",
    "        ax2.add_patch(\n",
    "            plt.Rectangle(\n",
    "                (i / numberOfCompartments, 0.25),\n",
    "                1 / (numberOfCompartments + 1),\n",
    "                0.5,\n",
    "                edgecolor=\"black\",\n",
    "                facecolor=\"skyblue\",\n",
    "            )\n",
    "        )\n",
    "        ax2.text(\n",
    "            ((i + 0.45) / numberOfCompartments), 0.5, str(val), fontsize=24, ha=\"center\", va=\"center\", color=\"black\"\n",
    "        )\n",
    "\n",
    "    fig.tight_layout()\n",
    "\n",
    "\n",
    "def plotOscillator(\n",
    "    particlesInCompartment: np.ndarray,\n",
    "    numberOfParticles: int,\n",
    "    analyticalEnergyDistribution: np.ndarray = None,\n",
    "    analyticalCompartmentDistribution: np.ndarray = None,\n",
    "):\n",
    "\n",
    "    numberOfCompartments = particlesInCompartment.shape[1]\n",
    "    colors = plt.cm.cividis(np.linspace(1, 0, numberOfCompartments))\n",
    "\n",
    "    # Create a figure with a custom gridspec\n",
    "    fig = plt.figure(figsize=(12, 8))\n",
    "    gs = gridspec.GridSpec(2, 2, height_ratios=[2, 1])  # Two rows, two columns, bottom row is taller\n",
    "\n",
    "    # Create the subplots\n",
    "    ax0 = fig.add_subplot(gs[0, 0])  # Top-left\n",
    "    ax1 = fig.add_subplot(gs[0, 1])  # Top-right\n",
    "    ax2 = fig.add_subplot(gs[1, :])  # Bottom, spanning both columns\n",
    "\n",
    "    totalDistribution = np.zeros(numberOfParticles)\n",
    "    for c in range(numberOfCompartments):\n",
    "        distribution, _ = np.histogram(\n",
    "            particlesInCompartment[:, c], bins=numberOfParticles, range=(-0.5, numberOfParticles + 0.5), density=True\n",
    "        )\n",
    "        ax0.plot(distribution, label=f\"$E_{{{c}}}$\", c=colors[c], lw=1)\n",
    "        totalDistribution += distribution\n",
    "\n",
    "    if analyticalEnergyDistribution is not None:\n",
    "        ax0.plot(analyticalEnergyDistribution, label=\"Analytical\", c=\"black\")\n",
    "\n",
    "    ax0.set_xlabel(\"Energy\")\n",
    "    ax0.set_ylabel(\"Density\")\n",
    "    ax0.set_xlim(0, lastNonZero(totalDistribution))\n",
    "    ax0.legend(fontsize=12)\n",
    "\n",
    "    ax1.boxplot(\n",
    "        particlesInCompartment,\n",
    "        patch_artist=True,\n",
    "        boxprops=dict(facecolor=\"skyblue\"),\n",
    "        tick_labels=np.arange(numberOfCompartments),\n",
    "    )\n",
    "    ax1.set_xlabel(\"Compartment\")\n",
    "    ax1.set_ylabel(\"Energy\")\n",
    "    if analyticalCompartmentDistribution is not None:\n",
    "        ax1.plot(np.arange(numberOfCompartments) + 1, analyticalCompartmentDistribution, label=\"Analytical\", c=\"black\")\n",
    "    ax1.legend()\n",
    "\n",
    "    ax2.axis(\"off\")\n",
    "    ax2.text(0.3, 0.0, \"Distribution in last cycle\", fontsize=24)\n",
    "    for i, val in enumerate(particlesInCompartment[-1]):\n",
    "        ax2.add_patch(\n",
    "            plt.Rectangle(\n",
    "                (i / numberOfCompartments, 0.25),\n",
    "                1 / (numberOfCompartments + 1),\n",
    "                0.5,\n",
    "                edgecolor=\"black\",\n",
    "                facecolor=\"skyblue\",\n",
    "            )\n",
    "        )\n",
    "        ax2.text(\n",
    "            ((i + 0.45) / numberOfCompartments), 0.5, str(val), fontsize=24, ha=\"center\", va=\"center\", color=\"black\"\n",
    "        )\n",
    "\n",
    "    fig.tight_layout()\n",
    "\n",
    "\n",
    "def sampler(numberOfCycles: int, numberOfParticles: int, numberOfCompartments: int, probabilities: np.ndarray):\n",
    "    particlesInCompartment = np.zeros((numberOfCycles, numberOfCompartments), dtype=np.int32)\n",
    "    for cycle in range(cycle):\n",
    "        for i in range(numberOfParticles):\n",
    "            compartment = np.random.choice(numberOfCompartments, p=probabilities)\n",
    "            particlesInCompartment[cycle, compartment] += 1\n",
    "    return particlesInCompartment"
   ]
  },
  {
   "cell_type": "markdown",
   "metadata": {},
   "source": [
    "### Non-interacting"
   ]
  },
  {
   "cell_type": "code",
   "execution_count": null,
   "metadata": {},
   "outputs": [],
   "source": [
    "def analyticalParticleDistribution(numberOfParticles: int, numberOfCompartments: int):\n",
    "    idx = np.arange(numberOfParticles)\n",
    "\n",
    "    # get binomial coefficients npr(N, j) in array\n",
    "    binomCoeffs = scipy.special.binom(numberOfParticles, idx)\n",
    "\n",
    "    # precompute p\n",
    "    p = 1 / numberOfCompartments\n",
    "\n",
    "    # return binomial pmf\n",
    "    return binomCoeffs * p**idx * (1 - p) ** (numberOfParticles - idx)"
   ]
  },
  {
   "cell_type": "code",
   "execution_count": null,
   "metadata": {},
   "outputs": [],
   "source": [
    "numberOfParticles = 500\n",
    "numberOfCompartments = 12\n",
    "numberOfCycles = 1000\n",
    "\n",
    "probabilities = np.ones(numberOfCompartments) / numberOfCompartments\n",
    "\n",
    "particlesInCompartment = np.zeros((numberOfCycles, numberOfCompartments), dtype=np.int32)"
   ]
  },
  {
   "cell_type": "code",
   "execution_count": null,
   "metadata": {},
   "outputs": [],
   "source": [
    "for cycle in range(numberOfCycles):\n",
    "    for i in range(numberOfParticles):\n",
    "        compartment = np.random.randint(0, numberOfCompartments)\n",
    "        particlesInCompartment[cycle, compartment] += 1"
   ]
  },
  {
   "cell_type": "code",
   "execution_count": null,
   "metadata": {},
   "outputs": [],
   "source": [
    "plotDistribution(\n",
    "    particlesInCompartment,\n",
    "    numberOfParticles,\n",
    "    analyticalParticleDistribution(numberOfParticles, numberOfCompartments),\n",
    "    np.ones(numberOfCompartments) * (numberOfParticles / numberOfCompartments),\n",
    ")"
   ]
  },
  {
   "cell_type": "markdown",
   "metadata": {},
   "source": [
    "### Non-interacting $E_i = i$"
   ]
  },
  {
   "cell_type": "code",
   "execution_count": null,
   "metadata": {},
   "outputs": [],
   "source": [
    "numberOfParticles = 500\n",
    "numberOfCompartments = 8\n",
    "numberOfCycles = 1000\n",
    "beta = 0.5\n",
    "\n",
    "particlesInCompartment = np.zeros((numberOfCycles, numberOfCompartments), dtype=np.int32)"
   ]
  },
  {
   "cell_type": "code",
   "execution_count": null,
   "metadata": {},
   "outputs": [],
   "source": [
    "energies = np.arange(numberOfCompartments)\n",
    "partitionFunction = np.sum(np.exp(-beta * energies))\n",
    "probabilities = np.exp(-beta * energies) / partitionFunction"
   ]
  },
  {
   "cell_type": "code",
   "execution_count": null,
   "metadata": {},
   "outputs": [],
   "source": [
    "for cycle in range(numberOfCycles):\n",
    "    for i in range(numberOfParticles):\n",
    "        compartment = np.random.choice(numberOfCompartments, p=probabilities)\n",
    "        particlesInCompartment[cycle, compartment] += 1"
   ]
  },
  {
   "cell_type": "code",
   "execution_count": null,
   "metadata": {},
   "outputs": [],
   "source": [
    "plotDistribution(particlesInCompartment, numberOfParticles, None, probabilities * numberOfParticles)"
   ]
  },
  {
   "cell_type": "markdown",
   "metadata": {},
   "source": [
    "### Non-interacting $E_i = \\frac{i(i+1)}{2}$"
   ]
  },
  {
   "cell_type": "code",
   "execution_count": null,
   "metadata": {},
   "outputs": [],
   "source": [
    "numberOfParticles = 500\n",
    "numberOfCompartments = 12\n",
    "numberOfCycles = 10000\n",
    "beta = 0.1\n",
    "\n",
    "particlesInCompartment = np.zeros((numberOfCycles, numberOfCompartments), dtype=np.int32)"
   ]
  },
  {
   "cell_type": "code",
   "execution_count": null,
   "metadata": {},
   "outputs": [],
   "source": [
    "indices = np.arange(numberOfCompartments)\n",
    "energies = indices * (indices + 1)\n",
    "partitionFunction = np.sum((indices + 1) * np.exp(-beta * energies))\n",
    "probabilities = (indices + 1) * np.exp(-beta * energies) / partitionFunction"
   ]
  },
  {
   "cell_type": "code",
   "execution_count": null,
   "metadata": {},
   "outputs": [],
   "source": [
    "for cycle in range(numberOfCycles):\n",
    "    for i in range(numberOfParticles):\n",
    "        compartment = np.random.choice(numberOfCompartments, p=probabilities)\n",
    "        particlesInCompartment[cycle, compartment] += 1"
   ]
  },
  {
   "cell_type": "code",
   "execution_count": null,
   "metadata": {},
   "outputs": [],
   "source": [
    "plotDistribution(particlesInCompartment, numberOfParticles, None, probabilities * numberOfParticles)"
   ]
  },
  {
   "cell_type": "markdown",
   "metadata": {},
   "source": [
    "### Interacting oscillators"
   ]
  },
  {
   "cell_type": "code",
   "execution_count": null,
   "metadata": {},
   "outputs": [],
   "source": [
    "# @numba.jit\n",
    "def NVE(numberOfOscillators, numberOfCycles, totalEnergy):\n",
    "    initSteps = int(np.floor(0.5 * numberOfCycles))\n",
    "\n",
    "    oscillator = np.zeros((numberOfCycles, numberOfOscillators), dtype=np.int32)\n",
    "    distribution = np.zeros(totalEnergy + 1, dtype=np.float64)\n",
    "\n",
    "    # Distribute the total energy among oscillators\n",
    "    for energy in range(totalEnergy):\n",
    "        oscillator[0, energy % numberOfOscillators] += 1\n",
    "\n",
    "    print(f\"Initial energy {oscillator.sum()}\")\n",
    "\n",
    "    for cycle in range(1, numberOfCycles):\n",
    "        oscillator[cycle] = oscillator[cycle - 1]\n",
    "        for _ in range(numberOfOscillators):\n",
    "            # Select two particles\n",
    "            oscA, oscB = np.random.choice(numberOfOscillators, 2, replace=False)\n",
    "\n",
    "            # Choose a random exchange direction\n",
    "            flip = -1 if np.random.rand() < 0.5 else 1\n",
    "\n",
    "            # If energy will not go negative, accept exchange\n",
    "            if min(oscillator[cycle, oscA] + flip, oscillator[cycle, oscB] - flip) >= 0.0:\n",
    "                oscillator[cycle, oscA] += flip\n",
    "                oscillator[cycle, oscB] -= flip\n",
    "\n",
    "        # Update the distribution after half the cycles\n",
    "        if cycle > initSteps:\n",
    "            distribution[oscillator[0]] += 1\n",
    "\n",
    "    return oscillator"
   ]
  },
  {
   "cell_type": "code",
   "execution_count": null,
   "metadata": {},
   "outputs": [],
   "source": [
    "oscillator = NVE(12, 500000, 500)"
   ]
  },
  {
   "cell_type": "code",
   "execution_count": null,
   "metadata": {},
   "outputs": [],
   "source": [
    "plotOscillator(oscillator, 500, np.exp(-np.arange(500) / 12) / np.sum(-np.arange(500) / 12), np.ones(12) * (500 / 12))"
   ]
  },
  {
   "cell_type": "code",
   "execution_count": null,
   "metadata": {},
   "outputs": [],
   "source": []
  }
 ],
 "metadata": {
  "kernelspec": {
   "display_name": "Python 3",
   "language": "python",
   "name": "python3"
  },
  "language_info": {
   "codemirror_mode": {
    "name": "ipython",
    "version": 3
   },
   "file_extension": ".py",
   "mimetype": "text/x-python",
   "name": "python",
   "nbconvert_exporter": "python",
   "pygments_lexer": "ipython3",
   "version": "3.12.7"
  }
 },
 "nbformat": 4,
 "nbformat_minor": 2
}
