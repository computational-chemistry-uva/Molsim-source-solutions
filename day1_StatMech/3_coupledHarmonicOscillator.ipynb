{
 "cells": [
  {
   "cell_type": "code",
   "execution_count": 1,
   "metadata": {},
   "outputs": [],
   "source": [
    "import numpy as np\n",
    "import matplotlib.pyplot as plt\n",
    "import numba"
   ]
  },
  {
   "cell_type": "code",
   "execution_count": 23,
   "metadata": {},
   "outputs": [],
   "source": [
    "numberOfOscillators = 4\n",
    "numberOfCycles = 1000000"
   ]
  },
  {
   "cell_type": "code",
   "execution_count": 58,
   "metadata": {},
   "outputs": [],
   "source": [
    "# numba.jit is a tool called Just-In-Time compilation and is used to make numpy code more efficient.\n",
    "# It compiles the python code before running and can therefore save a lot of time.\n",
    "# The way it is used here is as a function *decorator* telling python to optimize thet function.\n",
    "# Try running the code without @numba.jit to see the performance differences.\n",
    "\n",
    "@numba.jit\n",
    "def NVE(numberOfOscillators, numberOfCycles, totalEnergy):\n",
    "    initSteps = int(np.floor(0.5 * numberOfCycles))\n",
    "    \n",
    "    oscillator = np.zeros(numberOfOscillators, dtype=np.int32)\n",
    "    distribution = np.zeros(totalEnergy+1, dtype=np.float32)\n",
    "\n",
    "    # Distribute the total energy among oscillators\n",
    "    for energy in range(totalEnergy):\n",
    "        oscillator[energy % numberOfOscillators] += 1\n",
    "\n",
    "    print(f\"Initial energy {oscillator.sum()}\")\n",
    "\n",
    "    for cycle in range(numberOfCycles):\n",
    "        for _ in range(numberOfOscillators):\n",
    "            # Select two particles\n",
    "            oscA, oscB = np.random.choice(numberOfOscillators, 2, replace=False)\n",
    "            \n",
    "            # Choose a random exchange direction\n",
    "            flip = -1 if np.random.rand() < 0.5 else 1\n",
    "            \n",
    "            # If energy will not go negative, accept exchange\n",
    "            if min(oscillator[oscA] + flip, oscillator[oscB] - flip) >= 0.0:\n",
    "                oscillator[oscA] += flip\n",
    "                oscillator[oscB] -= flip\n",
    "\n",
    "        # Update the distribution after half the cycles\n",
    "        if cycle > initSteps:\n",
    "            distribution[oscillator[0]] += 1\n",
    "    \n",
    "    print(f\"Final energy {oscillator.sum()}\")\n",
    "    return distribution / distribution.sum()\n",
    "\n",
    "\n",
    "@numba.jit\n",
    "def find_last_nonzero_index(arr):\n",
    "    for i in range(len(arr) - 1, -1, -1):\n",
    "        if arr[i] != 0:\n",
    "            return i + 1  # Add 1 to match the original logic\n",
    "    return 0  # If all elements are zero\n",
    "\n",
    "@numba.jit\n",
    "def NVT(numberOfOscillators, numberOfCycles, beta):\n",
    "    initSteps = int(np.floor(0.5 * numberOfCycles))\n",
    "    oscillator = np.zeros(numberOfOscillators, dtype=np.int32)\n",
    "    distribution = np.zeros(1000000, dtype=np.int32)\n",
    "    \n",
    "    print(f\"Initial energy {oscillator.sum()}\")\n",
    "    for cycle in range(numberOfCycles):\n",
    "        for _ in range(numberOfOscillators):\n",
    "            # Select a particle\n",
    "            oscA = np.random.choice(numberOfOscillators, 1)\n",
    "            \n",
    "            # Choose a random exchange direction\n",
    "            flip = -1 if np.random.rand() < 0.5 else 1\n",
    "            \n",
    "            # accept according to Metropolis criterium\n",
    "            if oscillator[oscA] + flip >= 0 and np.random.rand() < np.exp(-beta * flip):\n",
    "                oscillator[oscA] += flip  \n",
    "            \n",
    "    \n",
    "        # Update the distribution after half the cycles\n",
    "        if cycle > initSteps:\n",
    "            distribution[oscillator[0]] += 1\n",
    "            \n",
    "    # Trim trailing zeros\n",
    "    k = find_last_nonzero_index(distribution)\n",
    "    distribution = distribution[:k]\n",
    "            \n",
    "    print(f\"Final energy {oscillator.sum()}\")\n",
    "    return distribution / distribution.sum()"
   ]
  },
  {
   "cell_type": "code",
   "execution_count": null,
   "metadata": {},
   "outputs": [],
   "source": [
    "fig, ax = plt.subplots()\n",
    "\n",
    "totalEnergy = 1000\n",
    "ax.plot(NVE(numberOfOscillators, numberOfCycles, totalEnergy))"
   ]
  },
  {
   "cell_type": "code",
   "execution_count": null,
   "metadata": {},
   "outputs": [],
   "source": [
    "fig, ax = plt.subplots()\n",
    "\n",
    "beta = 0.0001\n",
    "for _ in range(5):\n",
    "    ax.plot(NVT(numberOfOscillators, numberOfCycles, beta))"
   ]
  },
  {
   "cell_type": "code",
   "execution_count": null,
   "metadata": {},
   "outputs": [],
   "source": []
  }
 ],
 "metadata": {
  "kernelspec": {
   "display_name": "Python 3",
   "language": "python",
   "name": "python3"
  },
  "language_info": {
   "codemirror_mode": {
    "name": "ipython",
    "version": 3
   },
   "file_extension": ".py",
   "mimetype": "text/x-python",
   "name": "python",
   "nbconvert_exporter": "python",
   "pygments_lexer": "ipython3",
   "version": "3.11.8"
  }
 },
 "nbformat": 4,
 "nbformat_minor": 2
}
