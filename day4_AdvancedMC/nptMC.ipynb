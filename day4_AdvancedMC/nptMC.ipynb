{
 "cells": [
  {
   "cell_type": "code",
   "execution_count": null,
   "metadata": {},
   "outputs": [],
   "source": [
    "from molsim import MonteCarlo\n",
    "\n",
    "mc = MonteCarlo(\n",
    "    numberOfParticles=100,\n",
    "    temperature=1.0,\n",
    "    boxSize=8.0,\n",
    "    maxDisplacement=0.5,\n",
    "    numberOfInitCycles=100000,\n",
    "    numberOfProdCycles=100000,\n",
    "    sampleFrequency=1000,\n",
    "    sigma=1.0,\n",
    "    epsilon=1.0,\n",
    "    logLevel=0,\n",
    "    seed=12,\n",
    "    pressure=1.0,\n",
    "    volumeProbability=0.0,\n",
    ")\n",
    "\n",
    "mc.run()"
   ]
  },
  {
   "cell_type": "markdown",
   "metadata": {},
   "source": [
    "# Question 1\n"
   ]
  }
 ],
 "metadata": {
  "kernelspec": {
   "display_name": "Python 3",
   "language": "python",
   "name": "python3"
  },
  "language_info": {
   "codemirror_mode": {
    "name": "ipython",
    "version": 3
   },
   "file_extension": ".py",
   "mimetype": "text/x-python",
   "name": "python",
   "nbconvert_exporter": "python",
   "pygments_lexer": "ipython3",
   "version": "3.10.15"
  }
 },
 "nbformat": 4,
 "nbformat_minor": 2
}
